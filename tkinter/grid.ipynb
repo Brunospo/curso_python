{
 "cells": [
  {
   "cell_type": "code",
   "execution_count": 12,
   "id": "bfc7c06f",
   "metadata": {},
   "outputs": [],
   "source": [
    "import tkinter as tk\n",
    "\n",
    "janela = tk.Tk()\n",
    "janela.title('Cotação de moedas')\n",
    "\n",
    "janela.rowconfigure(0,weight=1)\n",
    "janela.columnconfigure([0,1],weight=1)\n",
    "\n",
    "mensagem = tk.Label(text='Sistema de busca de cotação de moedaas', fg='white', bg='#7e40cb', width=35, height=5)\n",
    "mensagem.grid(column=0, row=0, columnspan=2, sticky='NSEW')\n",
    "\n",
    "mensagem = tk.Label(text='Selecione a moeda desejada')\n",
    "mensagem.grid(column=0, row=1)\n",
    "\n",
    "moeda = tk.Entry()\n",
    "moeda.grid(column=1, row=1)\n",
    "\n",
    "janela.mainloop()"
   ]
  },
  {
   "cell_type": "markdown",
   "id": "1cead768",
   "metadata": {},
   "source": [
    "### sticky\n",
    "Preenche de acordo com as direções NORTE (N), SUL(S), LESTE(E) e OESTE(W)\n",
    "\n",
    "### rowconfigure e columnconfigure\n",
    "Redmensiomaneto automatico"
   ]
  }
 ],
 "metadata": {
  "kernelspec": {
   "display_name": "Python 3",
   "language": "python",
   "name": "python3"
  },
  "language_info": {
   "codemirror_mode": {
    "name": "ipython",
    "version": 3
   },
   "file_extension": ".py",
   "mimetype": "text/x-python",
   "name": "python",
   "nbconvert_exporter": "python",
   "pygments_lexer": "ipython3",
   "version": "3.10.12"
  }
 },
 "nbformat": 4,
 "nbformat_minor": 5
}
