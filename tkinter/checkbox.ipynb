{
 "cells": [
  {
   "cell_type": "code",
   "execution_count": 13,
   "id": "4601d670",
   "metadata": {},
   "outputs": [],
   "source": [
    "import tkinter as tk\n",
    "\n",
    "janela = tk.Tk()\n",
    "\n",
    "valor_checkbox = tk.IntVar()\n",
    "checkbox_promocoes = tk.Checkbutton(text='Deseja receber e-mails promocionais?', variable=valor_checkbox)\n",
    "checkbox_promocoes.grid(column=0, row=0)\n",
    "\n",
    "valor_politicas = tk.IntVar()\n",
    "checkbox_politicas = tk.Checkbutton(text='Aceita termos de uso e politicas de privacidade?', variable=valor_politicas)\n",
    "checkbox_politicas.grid(column=0, row=1)\n",
    "\n",
    "def enviar():\n",
    "  if valor_checkbox.get():\n",
    "    print('O cliente deseja receber e-mails promocionais')\n",
    "  else:\n",
    "    print('O cliente não quer e-mails promocionais')\n",
    "\n",
    "  if valor_politicas.get():\n",
    "    print('O cliente aceita os termos')\n",
    "  else:\n",
    "    print('O cliente não aceita os termos')\n",
    "\n",
    "botao_enviar = tk.Button(text='Enviar', command=enviar)\n",
    "botao_enviar.grid(column=0, row=2, columnspan=2)\n",
    "\n",
    "\n",
    "janela.mainloop()"
   ]
  }
 ],
 "metadata": {
  "kernelspec": {
   "display_name": "Python 3",
   "language": "python",
   "name": "python3"
  },
  "language_info": {
   "codemirror_mode": {
    "name": "ipython",
    "version": 3
   },
   "file_extension": ".py",
   "mimetype": "text/x-python",
   "name": "python",
   "nbconvert_exporter": "python",
   "pygments_lexer": "ipython3",
   "version": "3.10.12"
  }
 },
 "nbformat": 4,
 "nbformat_minor": 5
}
