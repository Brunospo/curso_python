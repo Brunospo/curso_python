{
 "cells": [
  {
   "cell_type": "code",
   "execution_count": null,
   "id": "b768ac3a",
   "metadata": {},
   "outputs": [],
   "source": [
    "from tkinter.filedialog import askopenfilename\n",
    "import pandas as pd\n",
    "\n",
    "caminho_arquivo = askopenfilename(title=\"Selecione um arquivo em Excel para abrir\")\n",
    "\n",
    "df = pd.read_excel(caminho_arquivo)\n",
    "\n",
    "print(caminho_arquivo)"
   ]
  }
 ],
 "metadata": {
  "kernelspec": {
   "display_name": "Python 3",
   "language": "python",
   "name": "python3"
  },
  "language_info": {
   "codemirror_mode": {
    "name": "ipython",
    "version": 3
   },
   "file_extension": ".py",
   "mimetype": "text/x-python",
   "name": "python",
   "nbconvert_exporter": "python",
   "pygments_lexer": "ipython3",
   "version": "3.10.12"
  }
 },
 "nbformat": 4,
 "nbformat_minor": 5
}
