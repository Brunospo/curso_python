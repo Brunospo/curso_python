{
 "cells": [
  {
   "cell_type": "code",
   "execution_count": 4,
   "id": "810586a9",
   "metadata": {},
   "outputs": [],
   "source": [
    "import tkinter as tk\n",
    "\n",
    "def enviar():\n",
    "  print(valor.get())\n",
    "\n",
    "janela = tk.Tk()\n",
    "\n",
    "valor = tk.StringVar(value='Nenhuma opcao') # para remover o padrão de todas as caixas marcadas\n",
    "\n",
    "botao_classe_economica = tk.Radiobutton(text= 'Classe economica', variable= valor, value= 'Classe economica', command= enviar)\n",
    "botao_classe_economica.grid(column=0, row=1)\n",
    "botao_classe_executiva = tk.Radiobutton(text= 'Classe executiva', variable= valor, value= 'Classe executiva', command= enviar)\n",
    "botao_classe_executiva.grid(column=1, row=1)\n",
    "botao_primeira_classe = tk.Radiobutton(text= 'Primeira classe', variable= valor, value= 'Primeira classe', command= enviar)\n",
    "botao_primeira_classe.grid(column=2, row=1)\n",
    "\n",
    "janela.mainloop()"
   ]
  }
 ],
 "metadata": {
  "kernelspec": {
   "display_name": "Python 3",
   "language": "python",
   "name": "python3"
  },
  "language_info": {
   "codemirror_mode": {
    "name": "ipython",
    "version": 3
   },
   "file_extension": ".py",
   "mimetype": "text/x-python",
   "name": "python",
   "nbconvert_exporter": "python",
   "pygments_lexer": "ipython3",
   "version": "3.10.12"
  }
 },
 "nbformat": 4,
 "nbformat_minor": 5
}
