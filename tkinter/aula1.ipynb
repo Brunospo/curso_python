{
 "cells": [
  {
   "cell_type": "code",
   "execution_count": 11,
   "id": "ac916c73",
   "metadata": {},
   "outputs": [],
   "source": [
    "import tkinter as tk\n",
    "\n",
    "janela = tk.Tk()\n",
    "janela.title('Cotação de moedas')\n",
    "\n",
    "mensagem = tk.Label(text='Sistema de busca de cotação de moedaas', fg='white', bg='#7e40cb', width=35, height=5)\n",
    "mensagem.pack()\n",
    "\n",
    "mensagem = tk.Label(text='Selecione a moeda desejada')\n",
    "mensagem.pack()\n",
    "\n",
    "moeda = tk.Entry()\n",
    "moeda.pack()\n",
    "\n",
    "janela.mainloop()"
   ]
  }
 ],
 "metadata": {
  "kernelspec": {
   "display_name": "Python 3",
   "language": "python",
   "name": "python3"
  },
  "language_info": {
   "codemirror_mode": {
    "name": "ipython",
    "version": 3
   },
   "file_extension": ".py",
   "mimetype": "text/x-python",
   "name": "python",
   "nbconvert_exporter": "python",
   "pygments_lexer": "ipython3",
   "version": "3.10.12"
  }
 },
 "nbformat": 4,
 "nbformat_minor": 5
}
