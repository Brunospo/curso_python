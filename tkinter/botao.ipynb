{
 "cells": [
  {
   "cell_type": "code",
   "execution_count": 11,
   "id": "e62e9127",
   "metadata": {},
   "outputs": [],
   "source": [
    "import tkinter as tk\n",
    "\n",
    "# Dicionário de cotações\n",
    "dicionario_cotacoes = {\n",
    "    \"Dólar\": 5.32,\n",
    "    \"Euro\": 6.10,\n",
    "    \"Bitcoin\": 20000\n",
    "}\n",
    "\n",
    "# Criando a janela\n",
    "janela = tk.Tk()\n",
    "janela.title(\"Cotação de moedas\")\n",
    "\n",
    "janela.rowconfigure(0, weight=1)\n",
    "janela.columnconfigure([0, 1], weight=1)\n",
    "\n",
    "# Criando labels\n",
    "mensagem_titulo = tk.Label(\n",
    "    text=\"Sistema de busca de cotação de moedas\",\n",
    "    fg=\"white\", bg=\"#7e40cb\", width=35, height=5\n",
    ")\n",
    "mensagem_titulo.grid(column=0, row=0, columnspan=2, sticky=\"NSEW\")\n",
    "\n",
    "mensagem_instrucao = tk.Label(text=\"Selecione a moeda desejada\")\n",
    "mensagem_instrucao.grid(column=0, row=1)\n",
    "\n",
    "# Campo de entrada\n",
    "moeda = tk.Entry()\n",
    "moeda.grid(column=1, row=1)\n",
    "\n",
    "# Label para exibir a resposta\n",
    "resposta = tk.Label(text=\"\")\n",
    "resposta.grid(column=0, row=2, columnspan=2)\n",
    "\n",
    "# Função de busca\n",
    "def buscar_cotacao():\n",
    "    moeda_escolhida = moeda.get().strip()  # Remove espaços extras\n",
    "    cotacao_moeda = dicionario_cotacoes.get(moeda_escolhida)\n",
    "\n",
    "    if cotacao_moeda:\n",
    "        resposta[\"text\"] = f\"Cotação da moeda {moeda_escolhida} é de {cotacao_moeda} reais\"\n",
    "    else:\n",
    "        resposta[\"text\"] = \"Moeda não encontrada\"\n",
    "\n",
    "# Botão de busca\n",
    "botao = tk.Button(text=\"Buscar Cotação\", command=buscar_cotacao)\n",
    "botao.grid(column=1, row=3)\n",
    "\n",
    "# Iniciar loop da interface\n",
    "janela.mainloop()"
   ]
  }
 ],
 "metadata": {
  "kernelspec": {
   "display_name": "Python 3",
   "language": "python",
   "name": "python3"
  },
  "language_info": {
   "codemirror_mode": {
    "name": "ipython",
    "version": 3
   },
   "file_extension": ".py",
   "mimetype": "text/x-python",
   "name": "python",
   "nbconvert_exporter": "python",
   "pygments_lexer": "ipython3",
   "version": "3.10.12"
  }
 },
 "nbformat": 4,
 "nbformat_minor": 5
}
