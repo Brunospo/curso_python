{
 "cells": [
  {
   "cell_type": "markdown",
   "id": "367cd714",
   "metadata": {
    "id": "367cd714"
   },
   "source": [
    "### Documentação Selenium:\n",
    "\n",
    "- https://selenium-python.readthedocs.io/locating-elements.html"
   ]
  },
  {
   "cell_type": "code",
   "execution_count": 1,
   "id": "4e28f9f7",
   "metadata": {
    "id": "4e28f9f7",
    "outputId": "8a541cba-8b09-4dda-e64f-cb1755982fb8"
   },
   "outputs": [],
   "source": [
    "from selenium import webdriver\n",
    "from selenium.webdriver.common.by import By\n",
    "import os\n",
    "\n",
    "caminho = os.getcwd()\n",
    "arquivo = caminho + r\"/site_hashtag/Pagina Hashtag.html\"\n",
    "\n",
    "navegador = webdriver.Chrome()\n",
    "navegador.get(f'file://{arquivo}')\n"
   ]
  },
  {
   "cell_type": "markdown",
   "id": "7d964ce5",
   "metadata": {
    "id": "7d964ce5"
   },
   "source": [
    "#### Pegar todos os links das imagens"
   ]
  },
  {
   "cell_type": "code",
   "execution_count": 6,
   "id": "e5c8e21c",
   "metadata": {
    "id": "e5c8e21c",
    "outputId": "22ebb9a4-f7b2-493b-e17b-b1c449f5ffbd"
   },
   "outputs": [
    {
     "name": "stdout",
     "output_type": "stream",
     "text": [
      "https://www.hashtagtreinamentos.com/curso-de-excel-online\n",
      "https://www.hashtagtreinamentos.com/curso-power-bi\n",
      "https://www.hashtagtreinamentos.com/curso-python\n",
      "https://www.hashtagtreinamentos.com/curso-sql\n",
      "https://www.hashtagtreinamentos.com/curso-vba-excel\n"
     ]
    }
   ],
   "source": [
    "lista_elementos = navegador.find_elements(By.TAG_NAME, 'figure')\n",
    "\n",
    "for elemento in lista_elementos:\n",
    "  try:\n",
    "    link = elemento.find_element(By.TAG_NAME, 'a').get_attribute('href')\n",
    "    print(link)\n",
    "  except:\n",
    "    continue\n",
    "  "
   ]
  }
 ],
 "metadata": {
  "colab": {
   "name": "Selecionando Elementos Selenium.ipynb",
   "provenance": []
  },
  "kernelspec": {
   "display_name": "Python 3",
   "language": "python",
   "name": "python3"
  },
  "language_info": {
   "codemirror_mode": {
    "name": "ipython",
    "version": 3
   },
   "file_extension": ".py",
   "mimetype": "text/x-python",
   "name": "python",
   "nbconvert_exporter": "python",
   "pygments_lexer": "ipython3",
   "version": "3.10.12"
  }
 },
 "nbformat": 4,
 "nbformat_minor": 5
}
