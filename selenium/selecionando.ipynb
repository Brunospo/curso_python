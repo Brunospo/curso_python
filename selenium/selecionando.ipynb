{
 "cells": [
  {
   "cell_type": "code",
   "execution_count": 9,
   "id": "2347bece",
   "metadata": {},
   "outputs": [],
   "source": [
    "from selenium import webdriver\n",
    "from selenium.webdriver.common.by import By\n",
    "import os\n",
    "\n",
    "caminho = os.getcwd()\n",
    "arquivo = caminho + '/site_hashtag/Pagina Hashtag.html'\n",
    "\n",
    "navegador = webdriver.Chrome()\n",
    "navegador.get(f'file://{arquivo}')\n",
    "\n",
    "# campo_nome = navegador.find_element(By.ID, 'fullname')\n",
    "# campo_nome.send_keys('Bruno')\n",
    "\n",
    "# ou\n",
    "\n",
    "navegador.find_element(By.ID, 'fullname').send_keys('Bruno')\n",
    "navegador.find_element(By.ID, 'email').send_keys('hashtagtreinamentos@gmail.com')\n",
    "navegador.find_element(By.ID, '_form_176_submit').click()"
   ]
  }
 ],
 "metadata": {
  "kernelspec": {
   "display_name": "Python 3",
   "language": "python",
   "name": "python3"
  },
  "language_info": {
   "codemirror_mode": {
    "name": "ipython",
    "version": 3
   },
   "file_extension": ".py",
   "mimetype": "text/x-python",
   "name": "python",
   "nbconvert_exporter": "python",
   "pygments_lexer": "ipython3",
   "version": "3.10.12"
  }
 },
 "nbformat": 4,
 "nbformat_minor": 5
}
