{
 "cells": [
  {
   "cell_type": "markdown",
   "id": "367cd714",
   "metadata": {},
   "source": [
    "### Documentação Selenium:\n",
    "\n",
    "- https://selenium-python.readthedocs.io/locating-elements.html"
   ]
  },
  {
   "cell_type": "code",
   "execution_count": 12,
   "id": "4e28f9f7",
   "metadata": {},
   "outputs": [],
   "source": [
    "from selenium import webdriver\n",
    "from selenium.webdriver.common.by import By\n",
    "import os\n",
    "\n",
    "navegador = webdriver.Chrome()\n",
    "\n",
    "caminho = os.getcwd()\n",
    "arquivo = caminho + r\"/site_hashtag/Pagina Hashtag.html\"\n",
    "navegador.get(f'file://{arquivo}')\n"
   ]
  },
  {
   "cell_type": "markdown",
   "id": "7d964ce5",
   "metadata": {},
   "source": [
    "#### Selecionar vários elementos de uma vez\n",
    "\n",
    "- Vamos selecionar pelo find_elements\n",
    "- Vamos clicar no item Blog do menu"
   ]
  },
  {
   "cell_type": "code",
   "execution_count": 13,
   "id": "d99bbc29",
   "metadata": {},
   "outputs": [],
   "source": [
    "lista_elementos = navegador.find_elements(By.CLASS_NAME, 'nav-link')\n",
    "\n",
    "for elemento in lista_elementos:\n",
    "    if 'blog' in elemento.text.lower():\n",
    "        elemento.click()\n",
    "        break"
   ]
  },
  {
   "cell_type": "code",
   "execution_count": null,
   "id": "6d691135",
   "metadata": {},
   "outputs": [],
   "source": []
  }
 ],
 "metadata": {
  "kernelspec": {
   "display_name": "Python 3",
   "language": "python",
   "name": "python3"
  },
  "language_info": {
   "codemirror_mode": {
    "name": "ipython",
    "version": 3
   },
   "file_extension": ".py",
   "mimetype": "text/x-python",
   "name": "python",
   "nbconvert_exporter": "python",
   "pygments_lexer": "ipython3",
   "version": "3.10.12"
  }
 },
 "nbformat": 4,
 "nbformat_minor": 5
}
