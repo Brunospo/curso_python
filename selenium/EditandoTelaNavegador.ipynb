{
 "cells": [
  {
   "cell_type": "markdown",
   "id": "702b7e53",
   "metadata": {},
   "source": [
    "### Abrindo o navegador"
   ]
  },
  {
   "cell_type": "code",
   "execution_count": 13,
   "id": "082ddc3b",
   "metadata": {},
   "outputs": [],
   "source": [
    "from selenium import webdriver\n",
    "from selenium.webdriver.common.by import By\n",
    "\n",
    "navegador = webdriver.Chrome()"
   ]
  },
  {
   "cell_type": "code",
   "execution_count": 14,
   "id": "164794e0",
   "metadata": {},
   "outputs": [],
   "source": [
    "import os\n",
    "\n",
    "caminho = os.getcwd()\n",
    "arquivo = caminho + r\"/site_hashtag/Pagina Hashtag.html\"\n",
    "navegador.get(f'file://{arquivo}')"
   ]
  },
  {
   "cell_type": "markdown",
   "id": "a5540cbe",
   "metadata": {},
   "source": [
    "### Editando a tela do navegador"
   ]
  },
  {
   "cell_type": "markdown",
   "id": "0cd74f30",
   "metadata": {},
   "source": [
    "#### maximizar"
   ]
  },
  {
   "cell_type": "code",
   "execution_count": 15,
   "id": "08e665f6",
   "metadata": {},
   "outputs": [],
   "source": [
    "navegador.maximize_window()"
   ]
  },
  {
   "cell_type": "markdown",
   "id": "843cad66",
   "metadata": {},
   "source": [
    "#### minimizar"
   ]
  },
  {
   "cell_type": "code",
   "execution_count": null,
   "id": "b2f6696b",
   "metadata": {},
   "outputs": [],
   "source": [
    "navegador.minimize_window()"
   ]
  },
  {
   "cell_type": "markdown",
   "id": "d2fbb53d",
   "metadata": {},
   "source": [
    "#### headless\n",
    "\n",
    "Atenção que nem sempre funciona igual"
   ]
  },
  {
   "cell_type": "code",
   "execution_count": 16,
   "id": "e880f33f",
   "metadata": {},
   "outputs": [
    {
     "name": "stdout",
     "output_type": "stream",
     "text": [
      "Google\n"
     ]
    }
   ],
   "source": [
    "from selenium import webdriver\n",
    "from selenium.webdriver.common.by import By\n",
    "\n",
    "options = webdriver.ChromeOptions()\n",
    "options.add_argument('--headless')\n",
    "navegador2 = webdriver.Chrome(options=options)\n",
    "navegador2.get('http://google.com')\n",
    "print(navegador2.title)\n",
    "navegador2.quit()"
   ]
  }
 ],
 "metadata": {
  "kernelspec": {
   "display_name": "Python 3",
   "language": "python",
   "name": "python3"
  },
  "language_info": {
   "codemirror_mode": {
    "name": "ipython",
    "version": 3
   },
   "file_extension": ".py",
   "mimetype": "text/x-python",
   "name": "python",
   "nbconvert_exporter": "python",
   "pygments_lexer": "ipython3",
   "version": "3.10.12"
  }
 },
 "nbformat": 4,
 "nbformat_minor": 5
}
