{
 "cells": [
  {
   "cell_type": "code",
   "execution_count": 31,
   "id": "56c96c6d",
   "metadata": {},
   "outputs": [],
   "source": [
    "from selenium import webdriver\n",
    "import os\n",
    "\n",
    "navegador = webdriver.Chrome()\n",
    "\n",
    "# navegador.get('https://google.com')\n",
    "\n",
    "# caminho = '../site_hashtag/Pagina Hashtag.html'\n",
    "# navegador.get(f'file://{caminho}')\n",
    "\n",
    "caminho = os.getcwd()\n",
    "arquivo = caminho + '/site_hashtag/Pagina Hashtag.html'\n",
    "\n",
    "navegador.get(f'file://{arquivo}')"
   ]
  }
 ],
 "metadata": {
  "kernelspec": {
   "display_name": "Python 3",
   "language": "python",
   "name": "python3"
  },
  "language_info": {
   "codemirror_mode": {
    "name": "ipython",
    "version": 3
   },
   "file_extension": ".py",
   "mimetype": "text/x-python",
   "name": "python",
   "nbconvert_exporter": "python",
   "pygments_lexer": "ipython3",
   "version": "3.10.12"
  }
 },
 "nbformat": 4,
 "nbformat_minor": 5
}
