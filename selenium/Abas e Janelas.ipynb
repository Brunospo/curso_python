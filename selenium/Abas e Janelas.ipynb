{
 "cells": [
  {
   "cell_type": "markdown",
   "id": "367cd714",
   "metadata": {
    "id": "367cd714"
   },
   "source": [
    "### Documentação Selenium:\n",
    "\n",
    "- https://selenium-python.readthedocs.io/locating-elements.html"
   ]
  },
  {
   "cell_type": "code",
   "execution_count": 16,
   "id": "4e28f9f7",
   "metadata": {
    "id": "4e28f9f7"
   },
   "outputs": [],
   "source": [
    "from selenium import webdriver\n",
    "from selenium.webdriver.common.by import By\n",
    "\n",
    "navegador = webdriver.Chrome()"
   ]
  },
  {
   "cell_type": "code",
   "execution_count": 17,
   "id": "59c8398d",
   "metadata": {
    "id": "59c8398d"
   },
   "outputs": [],
   "source": [
    "import os\n",
    "\n",
    "caminho = os.getcwd()\n",
    "arquivo = caminho + r\"/site_hashtag/Pagina Hashtag.html\"\n",
    "navegador.get(f'file://{arquivo}')"
   ]
  },
  {
   "cell_type": "markdown",
   "id": "1a0d1ae6",
   "metadata": {
    "id": "1a0d1ae6"
   },
   "source": [
    "#### Botão que abre outra janela"
   ]
  },
  {
   "cell_type": "code",
   "execution_count": 18,
   "id": "d90ab797",
   "metadata": {
    "id": "d90ab797"
   },
   "outputs": [],
   "source": [
    "navegador.find_element(By.XPATH, '/html/body/section[2]/div/div[4]/figure/a/img').click()"
   ]
  },
  {
   "cell_type": "code",
   "execution_count": 19,
   "id": "80d8ecac",
   "metadata": {
    "id": "80d8ecac"
   },
   "outputs": [],
   "source": [
    "abas = navegador.window_handles\n",
    "aba1 = abas[0]\n",
    "aba2 = abas[1]"
   ]
  },
  {
   "cell_type": "markdown",
   "id": "80f18fcd",
   "metadata": {
    "id": "80f18fcd"
   },
   "source": [
    "### Outra aba"
   ]
  },
  {
   "cell_type": "code",
   "execution_count": 20,
   "id": "dbac0005",
   "metadata": {
    "id": "dbac0005"
   },
   "outputs": [],
   "source": [
    "navegador.switch_to.window(aba2)\n",
    "navegador.find_element(By.ID, 'firstname').send_keys('Lira Excel')"
   ]
  },
  {
   "cell_type": "markdown",
   "id": "16053597",
   "metadata": {
    "id": "16053597"
   },
   "source": [
    "### Outra janela"
   ]
  },
  {
   "cell_type": "code",
   "execution_count": null,
   "id": "f79746e1",
   "metadata": {
    "id": "f79746e1"
   },
   "outputs": [],
   "source": [
    "# trata da mesma maneira"
   ]
  }
 ],
 "metadata": {
  "colab": {
   "name": "Abas e Janelas-Arquivo Inicial.ipynb",
   "provenance": []
  },
  "kernelspec": {
   "display_name": "Python 3",
   "language": "python",
   "name": "python3"
  },
  "language_info": {
   "codemirror_mode": {
    "name": "ipython",
    "version": 3
   },
   "file_extension": ".py",
   "mimetype": "text/x-python",
   "name": "python",
   "nbconvert_exporter": "python",
   "pygments_lexer": "ipython3",
   "version": "3.10.12"
  }
 },
 "nbformat": 4,
 "nbformat_minor": 5
}
