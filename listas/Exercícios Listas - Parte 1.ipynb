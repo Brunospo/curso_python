{
 "cells": [
  {
   "cell_type": "markdown",
   "metadata": {},
   "source": [
    "# Exercícios\n",
    "\n",
    "## 1. Faturamento do Melhor e do Pior Mês do Ano\n",
    "\n",
    "Qual foi o valor de vendas do melhor mês do Ano?\n",
    "E valor do pior mês do ano?"
   ]
  },
  {
   "cell_type": "code",
   "execution_count": 27,
   "metadata": {},
   "outputs": [
    {
     "name": "stdout",
     "output_type": "stream",
     "text": [
      "O valor de venda do melhor mes foi de R$: 49051\n",
      "O valor de venda do pior mes foi de R$: 9650\n"
     ]
    }
   ],
   "source": [
    "meses = ['jan', 'fev', 'mar', 'abr', 'mai', 'jun', 'jul', 'ago', 'set', 'out', 'nov', 'dez']\n",
    "vendas_1sem = [25000, 29000, 22200, 17750, 15870, 19900]\n",
    "vendas_2sem = [19850, 20120, 17540, 15555, 49051, 9650]\n",
    "\n",
    "vendasAnuais = vendas_1sem + vendas_2sem\n",
    "\n",
    "maiorValor = max(vendasAnuais)\n",
    "menorValor = min(vendasAnuais)\n",
    "\n",
    "print(\"O valor de venda do melhor mes foi de R$: {}\".format(maiorValor))\n",
    "print(\"O valor de venda do pior mes foi de R$: {}\".format(menorValor))"
   ]
  },
  {
   "cell_type": "markdown",
   "metadata": {},
   "source": [
    "## 2. Continuação\n",
    "\n",
    "Agora relacione as duas listas para printar 'O melhor mês do ano foi {} com {} vendas' e o mesmo para o pior mês do ano.\n",
    "\n",
    "Calcule também o faturamento total do Ano e quanto que o melhor mês representou do faturamento total.\n",
    "\n",
    "Obs: Para o faturamento total, pode usar a função sum(lista) que soma todos os itens de uma lista"
   ]
  },
  {
   "cell_type": "code",
   "execution_count": null,
   "metadata": {},
   "outputs": [
    {
     "name": "stdout",
     "output_type": "stream",
     "text": [
      "O melhor mês do ano foi nov com 49051 vendas\n",
      "O pior mês do ano foi dez com 9650 vendas\n",
      "O faturaamento total do ano foi 261486 e o melhor mes represeentou 18.76% do total vendas\n"
     ]
    }
   ],
   "source": [
    "meses = ['jan', 'fev', 'mar', 'abr', 'mai', 'jun', 'jul', 'ago', 'set', 'out', 'nov', 'dez']\n",
    "vendas_1sem = [25000, 29000, 22200, 17750, 15870, 19900]\n",
    "vendas_2sem = [19850, 20120, 17540, 15555, 49051, 9650]\n",
    "\n",
    "vendasAnuais = vendas_1sem + vendas_2sem\n",
    "\n",
    "maiorValor = max(vendasAnuais)\n",
    "menorValor = min(vendasAnuais)\n",
    "\n",
    "mesMaiorValor = vendasAnuais.index(maiorValor)\n",
    "mesMenorValor = vendasAnuais.index(menorValor)\n",
    "\n",
    "faturamentoTotal = sum(vendasAnuais)\n",
    "porcentagemDoMelhorMes = (maiorValor / faturamentoTotal)\n",
    "\n",
    "print('O melhor mês do ano foi {} com {} vendas'.format(meses[mesMaiorValor], maiorValor))\n",
    "print('O pior mês do ano foi {} com {} vendas'.format(meses[mesMenorValor], menorValor))\n",
    "print('O faturaamento total do ano foi {} e o melhor mes represeentou {:.2%} do total vendas'.format(faturamentoTotal, porcentagemDoMelhorMes))\n"
   ]
  },
  {
   "cell_type": "markdown",
   "metadata": {},
   "source": [
    "## 3. Crie uma lista com o top 3 valores de vendas do ano (sem fazer \"no olho\")\n",
    "\n",
    "Dica: o método remove retira um item da lista."
   ]
  },
  {
   "cell_type": "code",
   "execution_count": null,
   "metadata": {},
   "outputs": [
    {
     "name": "stdout",
     "output_type": "stream",
     "text": [
      "[49051, 29000, 25000]\n",
      "[25000, 29000, 22200, 17750, 15870, 19900]\n"
     ]
    }
   ],
   "source": [
    "meses = ['jan', 'fev', 'mar', 'abr', 'mai', 'jun', 'jul', 'ago', 'set', 'out', 'nov', 'dez']\n",
    "vendas_1sem = [25000, 29000, 22200, 17750, 15870, 19900]\n",
    "vendas_2sem = [19850, 20120, 17540, 15555, 49051, 9650]\n",
    "\n",
    "vendasAnuais = vendas_1sem + vendas_2sem\n",
    "\n",
    "top3 = []\n",
    "\n",
    "maiorValor = max(vendasAnuais)\n",
    "top3.append(maiorValor)\n",
    "vendasAnuais.remove(maiorValor)\n",
    "\n",
    "maiorValor = max(vendasAnuais)\n",
    "top3.append(maiorValor)\n",
    "vendasAnuais.remove(maiorValor)\n",
    "\n",
    "maiorValor = max(vendasAnuais)\n",
    "top3.append(maiorValor)\n",
    "vendasAnuais.remove(maiorValor)\n",
    "\n",
    "print(top3)"
   ]
  }
 ],
 "metadata": {
  "kernelspec": {
   "display_name": "Python 3",
   "language": "python",
   "name": "python3"
  },
  "language_info": {
   "codemirror_mode": {
    "name": "ipython",
    "version": 3
   },
   "file_extension": ".py",
   "mimetype": "text/x-python",
   "name": "python",
   "nbconvert_exporter": "python",
   "pygments_lexer": "ipython3",
   "version": "3.10.12"
  }
 },
 "nbformat": 4,
 "nbformat_minor": 4
}
