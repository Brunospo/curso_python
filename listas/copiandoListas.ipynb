{
 "cells": [
  {
   "cell_type": "markdown",
   "metadata": {},
   "source": [
    "# Copiar e \"Igualdade\" de Listas\n",
    "\n",
    "Estrutura:\n",
    "\n",
    "- Quando fazemos:\n",
    "lista2 = lista1\n",
    "não estamos criando uma lista nova, mas estamos atribuindo outra variável à mesma lista.\n",
    "- Se quisermos copiar lista devemos fazer\n",
    "lista2 = lista1.copy()\n",
    "ou entao\n",
    "lista2 = lista1[:]"
   ]
  }
 ],
 "metadata": {
  "language_info": {
   "name": "python"
  }
 },
 "nbformat": 4,
 "nbformat_minor": 2
}
