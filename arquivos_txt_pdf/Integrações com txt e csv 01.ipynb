{
 "cells": [
  {
   "cell_type": "markdown",
   "metadata": {},
   "source": [
    "# Integração do Python com Arquivos txt\n",
    "\n",
    "Como quase tudo no Python, existem várias formas de ler um arquivo no Python.\n",
    "\n",
    "Aprendemos em módulos passadas a ler arquivos em Excel ou csv com o Pandas, minha recomendação é que, sempre que possível, use o pandas para isso porque ele é um módulo feito para análise de dados e tem muita coisa pronta dentro dele.\n",
    "\n",
    "Caso queira ler um arquivo txt simplesmente ou escrever um, vamos ver agora como fazer.\n",
    "\n",
    "### Estrutura:"
   ]
  },
  {
   "cell_type": "raw",
   "metadata": {},
   "source": [
    "1. Método open: -> Abre um arquivo txt\n",
    "\n",
    "arquivo = open('NomeArquivo.txt', 'r')\n",
    "\n",
    "Usamos 'r' para abrir o arquivo para ler (read) e 'w' quando estamos abrindo o arquivo para escrever (write) ou 'a' se formos adicionar (append) uma informação no arquivo"
   ]
  },
  {
   "cell_type": "markdown",
   "metadata": {},
   "source": [
    "- Com o arquivo aberto, agora podemos efetivamente ler o arquivo com os métodos:"
   ]
  },
  {
   "cell_type": "raw",
   "metadata": {},
   "source": [
    "2. Método read():\n",
    "\n",
    "texto_arquivo = arquivo.read()\n",
    "\n",
    "3. Método readlines():\n",
    "\n",
    "lista_linhas = arquivo.readlines()"
   ]
  },
  {
   "cell_type": "markdown",
   "metadata": {},
   "source": [
    "- Para escrever alguma coisa no arquivo teremos o método write:"
   ]
  },
  {
   "cell_type": "raw",
   "metadata": {},
   "source": [
    "4. Método write():\n",
    "\n",
    "arquivo.write('Texto que quero escrever')"
   ]
  },
  {
   "cell_type": "markdown",
   "metadata": {},
   "source": [
    "- Obs: Quando você abre um arquivo, ele permanece aberto no Python até você fechar. Existem 2 formas de fazer isso:"
   ]
  },
  {
   "cell_type": "raw",
   "metadata": {},
   "source": [
    "5. Método close():\n",
    "\n",
    "arquivo.close()\n",
    "\n",
    "6. Usando a estrutura with: -> ao final do with, a própria estrutura with fecha automaticamente o arquivo\n",
    "\n",
    "with open('NomeArquivo.txt', 'w') as arquivo:\n",
    "    arquivo.write()\n",
    "    ..."
   ]
  },
  {
   "cell_type": "markdown",
   "metadata": {},
   "source": [
    "### Desafio onde vamos aprender:\n",
    "\n",
    "- Na Hashtag, sempre analisamos o nosso \"Funil de Vendas\". Para isso, rastreamos de onde veio os alunos por meio de um código, do tipo:\n",
    "    - hashtag_site_org -> Pessoas que vieram pelo site da Hashtag\n",
    "    - hashtag_yt_org -> Pessoas que vieram pelo Youtube da Hashtag\n",
    "    - hashtag_ig_org -> Pessoas que vieram pelo Instagram da Hashtag\n",
    "    - hashtag_igfb_org -> Pessoas que vieram pelo Instagram ou Facebook da Hashtag\n",
    "\n",
    "Os códigos diferentes disso, são códigos de anúncio da Hashtag.\n",
    "\n",
    "- Queremos analisar quantos alunos vieram de anúncio e quantos vieram \"orgânico\".\n",
    "- Qual a melhor fonte \"orgânica\" de alunos\n",
    "\n",
    "Obs: orgânico é tudo aquilo que não veio de anúncios.\n",
    "\n",
    "No nosso sistema, conseguimos exportar um txt com as informações dos alunos, conforme o arquivo Alunos.txt<br>\n",
    "(Os dados foram gerados aleatoriamente para simular uma situação real, já que não podemos fornecer os dados reais dos alunos por questões de segurança)\n",
    "\n",
    "- No final, para treinar, vamos escrever todas essas respostas em um novo arquivo txt"
   ]
  },
  {
   "cell_type": "code",
   "execution_count": 39,
   "metadata": {},
   "outputs": [
    {
     "name": "stdout",
     "output_type": "stream",
     "text": [
      "205\n",
      "295\n",
      "{'hashtag_site_org': 53, 'hashtag_yt_org': 155, 'hashtag_ig_org': 22, 'hashtag_igfb_org': 2}\n"
     ]
    }
   ],
   "source": [
    "# import chardet\n",
    "\n",
    "# with open(\"Alunos.txt\", \"rb\") as arquivo:\n",
    "#     resultado = chardet.detect(arquivo.read())\n",
    "\n",
    "# print(f\"Codificação detectada: {resultado['encoding']}\")\n",
    "\n",
    "count_organico = 0\n",
    "count_pago = 0\n",
    "\n",
    "origem_alunos = {'hashtag_site_org' : 0, 'hashtag_yt_org' : 0, 'hashtag_ig_org' : 0, 'hashtag_igfb_org' : 0}\n",
    "\n",
    "with open('Alunos.txt', 'r', encoding='ISO-8859-1') as arquivo:\n",
    "  lista_alunos = arquivo.readlines()[4:]\n",
    "\n",
    "  for aluno in lista_alunos:\n",
    "    origem = aluno.split('origemurl')[1]\n",
    "    if '_org_' in origem:\n",
    "      count_organico += 1\n",
    "      for chave in origem_alunos.keys():\n",
    "        if chave in origem:\n",
    "          origem_alunos[chave] +=1        \n",
    "    else:\n",
    "      count_pago += 1\n",
    "\n",
    "print(count_organico)\n",
    "print(count_pago)\n",
    "print(origem_alunos)\n",
    "\n",
    "with open ('resultado.txt', 'w') as arquivo:\n",
    "  arquivo.write(f'Quantidade de alunos por anuncio: {count_pago}\\nQuantidade de alunos \"Organicos\": {count_organico}\\n Site: {origem_alunos[\"hashtag_site_org\"]}, YouTube: {origem_alunos[\"hashtag_yt_org\"]}, Instagram/FaceBook: {origem_alunos[\"hashtag_ig_org\"] + origem_alunos[\"hashtag_igfb_org\"]}')\n"
   ]
  }
 ],
 "metadata": {
  "kernelspec": {
   "display_name": "Python 3",
   "language": "python",
   "name": "python3"
  },
  "language_info": {
   "codemirror_mode": {
    "name": "ipython",
    "version": 3
   },
   "file_extension": ".py",
   "mimetype": "text/x-python",
   "name": "python",
   "nbconvert_exporter": "python",
   "pygments_lexer": "ipython3",
   "version": "3.10.12"
  }
 },
 "nbformat": 4,
 "nbformat_minor": 4
}
