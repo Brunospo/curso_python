{
 "cells": [
  {
   "cell_type": "markdown",
   "metadata": {},
   "source": [
    "# Exercícios\n",
    "\n",
    "## 1. Criando um Registro de Hóspedes\n",
    "\n",
    "Digamos que você está criando o sistema para registrar a chegada de hóspedes em um hotel. No hotel, os hóspedes podem ter quartos com 1, 2, 3 e 4 pessoas. Seu sistema deve conseguir:\n",
    "\n",
    "1. Identificar quantas pessoas o hóspede que acabou de chegar vai ter no quarto (perguntando por meio de input)\n",
    "2. De acordo com a quantidade de pessoas do hóspede, ele deve fazer um for para perguntar o cpf e o nome de cada pessoa, a fim de registrá-la no quarto (2 inputs para cada pessoa, 1 para o cpf e outro para o nome)\n",
    "3. O seu programa então deve gerar uma lista com todas as pessoas que ficarão no quarto em que cada item dessa lista é o nome da pessoa e o cpf da pessoa, assim:"
   ]
  },
  {
   "cell_type": "raw",
   "metadata": {},
   "source": [
    "quarto = [\n",
    "    ['João', 'cpf:00000000000'],\n",
    "    ['Julia', 'cpf:11111111111'],\n",
    "    ['Marcus', 'cpf:22222222222'],\n",
    "    ['Maria', 'cpf:33333333333'],\n",
    "]"
   ]
  },
  {
   "cell_type": "markdown",
   "metadata": {},
   "source": [
    "- Para simplificar, não vamos nos preocupar com possibilidades de \"tentar colocar mais de 1 hóspede, digitar o cpf errado, etc. Nosso objetivo é treinar a criação de uma rotina de cadastro"
   ]
  },
  {
   "cell_type": "code",
   "execution_count": null,
   "metadata": {},
   "outputs": [
    {
     "name": "stdout",
     "output_type": "stream",
     "text": [
      "[['bruno', 'cpf: 123456789']]\n"
     ]
    }
   ],
   "source": [
    "#seu código aqui\n",
    "quarto = []\n",
    "\n",
    "qtdDePessoas = int(input('Digite a quantidade de pessoas que terão no quarto:'))\n",
    "\n",
    "if qtdDePessoas > 0 and qtdDePessoas <=4 :\n",
    "  for i in range(qtdDePessoas) :\n",
    "    dados = []\n",
    "\n",
    "    nome = input('Digite o nome da {}° pessoa:'.format(i + 1))\n",
    "    cpf = int(input('Digite o cpf da {}° pessoa:'.format(i + 1)))\n",
    "\n",
    "    dados.append(nome)\n",
    "    dados.append('cpf: {}'.format(cpf))\n",
    "\n",
    "    quarto.append(dados)\n",
    "\n",
    "  print(quarto)\n",
    "else :\n",
    "  print(\"Quantidade de pessoas invalida!\")"
   ]
  },
  {
   "cell_type": "markdown",
   "metadata": {},
   "source": [
    "## 2. Análise de Vendas\n",
    "\n",
    "Nesse exercício vamos fazer uma \"análise simples\" de atingimento de Meta.\n",
    "\n",
    "Temos uma lista com os vendedores e os valores de vendas e queremos identificar (printar) quais os vendedores que bateram a meta e qual foi o valor que eles venderam."
   ]
  },
  {
   "cell_type": "code",
   "execution_count": 9,
   "metadata": {},
   "outputs": [
    {
     "name": "stdout",
     "output_type": "stream",
     "text": [
      "O(A) vendedor(a) João bateu a meta com 15000 vendas\n",
      "O(A) vendedor(a) Julia bateu a meta com 27000 vendas\n",
      "O(A) vendedor(a) Ana bateu a meta com 10300 vendas\n"
     ]
    }
   ],
   "source": [
    "meta = 10000\n",
    "vendas = [\n",
    "    ['João', 15000],\n",
    "    ['Julia', 27000],\n",
    "    ['Marcus', 9900],\n",
    "    ['Maria', 3750],\n",
    "    ['Ana', 10300],\n",
    "    ['Alon', 7870],\n",
    "]\n",
    "#seu código aqui\n",
    "\n",
    "for vendedor in vendas :\n",
    "  if vendedor[1] >= meta :\n",
    "    print(\"O(A) vendedor(a) {} bateu a meta com {} vendas\".format(vendedor[0], vendedor[1]))"
   ]
  },
  {
   "cell_type": "markdown",
   "metadata": {},
   "source": [
    "## 3. Comparação com Ano Anterior\n",
    "\n",
    "Digamos que você está analisando as vendas de produtos de um ecommerce e quer identificar quais produtos tiveram no ano de 2020 mais vendas do que no ano de 2019, para reportar isso para a diretoria.\n",
    "\n",
    "Sua resposta pode ser um print de cada produto, qual foi a venda de 2019, a venda de 2020 e o % de crescimento de 2020 para 2019.\n",
    "\n",
    "Lembrando, para calcular o % de crescimento de um produto de um ano para o outro, podemos fazer: (vendas_produto2020/vendas_produto2019 - 1)\n",
    "\n",
    "Dica: lembre do enumerate, ele pode facilitar seu \"for\""
   ]
  },
  {
   "cell_type": "code",
   "execution_count": 16,
   "metadata": {},
   "outputs": [
    {
     "name": "stdout",
     "output_type": "stream",
     "text": [
      "iphone vendeu 558147 em 2019 e 951642 em 2020, tendo um crescimento de 70.5%\n",
      "tv vendeu 405252 em 2019 e 787604 em 2020, tendo um crescimento de 94.3%\n",
      "máquina de café vendeu 718654 em 2019 e 867660 em 2020, tendo um crescimento de 20.7%\n",
      "notebook dell vendeu 422760 em 2019 e 694913 em 2020, tendo um crescimento de 64.4%\n",
      "notebook hp vendeu 154753 em 2019 e 539704 em 2020, tendo um crescimento de 248.8%\n",
      "microsoft surface vendeu 438508 em 2019 e 667179 em 2020, tendo um crescimento de 52.1%\n",
      "webcam vendeu 237467 em 2019 e 295633 em 2020, tendo um crescimento de 24.5%\n",
      "caixa de som vendeu 489705 em 2019 e 725316 em 2020, tendo um crescimento de 48.1%\n",
      "microfone vendeu 328311 em 2019 e 644622 em 2020, tendo um crescimento de 96.3%\n",
      "câmera canon vendeu 591120 em 2019 e 994303 em 2020, tendo um crescimento de 68.2%\n"
     ]
    }
   ],
   "source": [
    "produtos = ['iphone', 'galaxy', 'ipad', 'tv', 'máquina de café', 'kindle', 'geladeira', 'adega', 'notebook dell', 'notebook hp', 'notebook asus', 'microsoft surface', 'webcam', 'caixa de som', 'microfone', 'câmera canon']\n",
    "vendas2019 = [558147,712350,573823,405252,718654,531580,973139,892292,422760,154753,887061,438508,237467,489705,328311,591120]\n",
    "vendas2020 = [951642,244295,26964,787604,867660,78830,710331,646016,694913,539704,324831,667179,295633,725316,644622,994303]\n",
    "#seu código aqui\n",
    "\n",
    "for i,venda in enumerate(vendas2019) :\n",
    "  if venda < vendas2020[i] :\n",
    "      print('{} vendeu {} em 2019 e {} em 2020, tendo um crescimento de {:.1%}'.format(produtos[i], venda, vendas2020[i], (vendas2020[i]/venda - 1)))\n",
    "    "
   ]
  }
 ],
 "metadata": {
  "kernelspec": {
   "display_name": "Python 3",
   "language": "python",
   "name": "python3"
  },
  "language_info": {
   "codemirror_mode": {
    "name": "ipython",
    "version": 3
   },
   "file_extension": ".py",
   "mimetype": "text/x-python",
   "name": "python",
   "nbconvert_exporter": "python",
   "pygments_lexer": "ipython3",
   "version": "3.10.12"
  }
 },
 "nbformat": 4,
 "nbformat_minor": 4
}
