{
 "cells": [
  {
   "cell_type": "markdown",
   "metadata": {},
   "source": []
  },
  {
   "cell_type": "code",
   "execution_count": null,
   "metadata": {},
   "outputs": [
    {
     "name": "stdout",
     "output_type": "stream",
     "text": [
      "teste\n",
      "python@gmail.com\n",
      "l.com\n",
      "gmail\n"
     ]
    }
   ],
   "source": [
    "email = 'testepython@gmail.com'\n",
    "\n",
    "tamanhoString = len(email)\n",
    "letra = email[3]\n",
    "letraDeTrasPraFrente = email[-2]\n",
    "\n",
    "pedacoTexto = email[:5]\n",
    "pedacoTexto2 = email[5:]\n",
    "pedacoTexto3 = email[-5:]\n",
    "pedacoTexto4 = email[12:17].count\n",
    "print(f'{pedacoTexto}')\n",
    "print(f'{pedacoTexto2}')\n",
    "print(f'{pedacoTexto3}')\n",
    "print(f'{pedacoTexto4}')"
   ]
  }
 ],
 "metadata": {
  "kernelspec": {
   "display_name": "Python 3",
   "language": "python",
   "name": "python3"
  },
  "language_info": {
   "codemirror_mode": {
    "name": "ipython",
    "version": 3
   },
   "file_extension": ".py",
   "mimetype": "text/x-python",
   "name": "python",
   "nbconvert_exporter": "python",
   "pygments_lexer": "ipython3",
   "version": "3.10.12"
  }
 },
 "nbformat": 4,
 "nbformat_minor": 2
}
