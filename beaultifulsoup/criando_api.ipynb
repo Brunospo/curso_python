{
 "cells": [
  {
   "cell_type": "code",
   "execution_count": 13,
   "id": "9f610750",
   "metadata": {},
   "outputs": [],
   "source": [
    "import requests\n",
    "from bs4 import BeautifulSoup\n",
    "\n",
    "req = requests.get('https://coinmarketcap.com/')\n",
    "\n",
    "site = BeautifulSoup(req.text, 'html.parser')\n",
    "\n",
    "tabela = site.find('tbody')\n",
    "linhas_tabela = tabela.find_all('tr')\n",
    "\n"
   ]
  },
  {
   "cell_type": "code",
   "execution_count": 22,
   "id": "1956f191",
   "metadata": {},
   "outputs": [
    {
     "name": "stdout",
     "output_type": "stream",
     "text": [
      "{'Bitcoin': {'nome': 'Bitcoin', 'simbolo': 'BTC', 'preco': '$108,729.23', 'volume': '$50,937,646,439', 'marketcap': '$2,161,268,360,510', 'var_1hr': '-0.91%', 'var_24hr': '-0.12%', 'var_7d': '3.34%'}, 'Ethereum': {'nome': 'Ethereum', 'simbolo': 'ETH', 'preco': '$2,813.97', 'volume': '$30,796,406,543', 'marketcap': '$339,709,714,681', 'var_1hr': '-1.60%', 'var_24hr': '2.48%', 'var_7d': '6.69%'}, 'Tether': {'nome': 'Tether', 'simbolo': 'USDT', 'preco': '$1.00', 'volume': '$89,156,619,487', 'marketcap': '$155,051,854,142', 'var_1hr': '0.01%', 'var_24hr': '-0.00%', 'var_7d': '-0.03%'}, 'XRP': {'nome': 'XRP', 'simbolo': 'XRP', 'preco': '$2.29', 'volume': '$2,983,875,368', 'marketcap': '$135,196,617,279', 'var_1hr': '-0.97%', 'var_24hr': '0.57%', 'var_7d': '2.98%'}, 'BNB': {'nome': 'BNB', 'simbolo': 'BNB', 'preco': '$667.21', 'volume': '$1,822,973,946', 'marketcap': '$94,002,085,681', 'var_1hr': '-0.24%', 'var_24hr': '0.46%', 'var_7d': '-0.16%'}, 'Solana': {'nome': 'Solana', 'simbolo': 'SOL', 'preco': '$163.59', 'volume': '$6,141,751,908', 'marketcap': '$85,928,340,569', 'var_1hr': '-1.69%', 'var_24hr': '3.29%', 'var_7d': '4.63%'}, 'USDC': {'nome': 'USDC', 'simbolo': 'USDC', 'preco': '$0.9997', 'volume': '$12,783,665,600', 'marketcap': '$61,211,500,424', 'var_1hr': '0.01%', 'var_24hr': '-0.01%', 'var_7d': '0.01%'}, 'Dogecoin': {'nome': 'Dogecoin', 'simbolo': 'DOGE', 'preco': '$0.1966', 'volume': '$1,670,117,860', 'marketcap': '$29,431,131,973', 'var_1hr': '-2.68%', 'var_24hr': '2.72%', 'var_7d': '2.80%'}, 'TRON': {'nome': 'TRON', 'simbolo': 'TRX', 'preco': '$0.2815', 'volume': '$761,011,610', 'marketcap': '$26,702,208,488', 'var_1hr': '-0.67%', 'var_24hr': '-3.35%', 'var_7d': '2.85%'}, 'Cardano': {'nome': 'Cardano', 'simbolo': 'ADA', 'preco': '$0.7076', 'volume': '$811,008,772', 'marketcap': '$25,013,897,565', 'var_1hr': '-1.69%', 'var_24hr': '0.92%', 'var_7d': '4.09%'}}\n"
     ]
    }
   ],
   "source": [
    "import re\n",
    "\n",
    "resposta = {}\n",
    "\n",
    "for linha in linhas_tabela:\n",
    "  try:\n",
    "    nome = linha.find(class_ = 'coin-item-name').text\n",
    "    codigo = linha.find(class_ = 'coin-item-symbol').text\n",
    "    valores = linha.find_all(string=re.compile(r'\\$'))\n",
    "    percentuais = linha.find_all(string=re.compile(r'\\%'))\n",
    "\n",
    "    preco = valores[0]\n",
    "    marketcap = valores[2]\n",
    "    volume = valores[3]\n",
    "\n",
    "    for i, percentual in enumerate(percentuais):\n",
    "      if 'jgYsZM' in percentual.parent['class']:\n",
    "        percentuais[i] = '-' + str(percentual)\n",
    "    \n",
    "    var_1hr = percentuais[0]\n",
    "    var_24hr = percentuais[1]\n",
    "    var_7d = percentuais[2]\n",
    "\n",
    "\n",
    "    dic = {'nome': nome, 'simbolo': codigo, 'preco': preco, 'volume': volume, 'marketcap': marketcap, 'var_1hr': var_1hr, 'var_24hr': var_24hr, 'var_7d': var_7d}\n",
    "    resposta[nome] = dic\n",
    "  except AttributeError:\n",
    "    pass\n",
    "\n",
    "print(resposta)"
   ]
  }
 ],
 "metadata": {
  "kernelspec": {
   "display_name": "Python 3",
   "language": "python",
   "name": "python3"
  },
  "language_info": {
   "codemirror_mode": {
    "name": "ipython",
    "version": 3
   },
   "file_extension": ".py",
   "mimetype": "text/x-python",
   "name": "python",
   "nbconvert_exporter": "python",
   "pygments_lexer": "ipython3",
   "version": "3.10.12"
  }
 },
 "nbformat": 4,
 "nbformat_minor": 5
}
