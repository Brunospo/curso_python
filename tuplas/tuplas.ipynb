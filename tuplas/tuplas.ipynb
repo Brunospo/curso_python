{
 "cells": [
  {
   "cell_type": "markdown",
   "metadata": {},
   "source": [
    "## Tuplas\n",
    "\n",
    "Estrutura:\n",
    "\n",
    "tupla = (valor, valor, valor, ... )\n",
    "\n",
    "Diferença\n",
    "Parece uma lista, mas é imutável.\n",
    "\n",
    "Vantagens:\n",
    "- Mais eficiente (em termos de performance)\n",
    "- Protege a base de dados (por ser imutável)\n",
    "- Muito usado para dados heterogêneos"
   ]
  }
 ],
 "metadata": {
  "language_info": {
   "name": "python"
  }
 },
 "nbformat": 4,
 "nbformat_minor": 2
}
