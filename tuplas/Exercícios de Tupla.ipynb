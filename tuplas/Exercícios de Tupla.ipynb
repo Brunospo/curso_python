{
 "cells": [
  {
   "cell_type": "markdown",
   "metadata": {},
   "source": [
    "# Exercícios\n",
    "\n",
    "São exercícios bem parecidos com os que fizemos com listas. Mas na tupla, podemos não só trabalhar com índices, mas fazer o \"unpacking\" das tuplas, o que pode facilitar nossos códigos.\n",
    "\n",
    "## 1. Análise de Vendas\n",
    "\n",
    "Nesse exercício vamos fazer uma \"análise simples\" de atingimento de Meta.\n",
    "\n",
    "Temos uma lista com os vendedores e os valores de vendas e queremos identificar (printar) quais os vendedores que bateram a meta e qual foi o valor que eles venderam."
   ]
  },
  {
   "cell_type": "code",
   "execution_count": 3,
   "metadata": {},
   "outputs": [
    {
     "name": "stdout",
     "output_type": "stream",
     "text": [
      "Vendedor João bateu a meta com 15000 vendas\n",
      "Vendedor Julia bateu a meta com 27000 vendas\n",
      "Vendedor Ana bateu a meta com 10300 vendas\n"
     ]
    }
   ],
   "source": [
    "meta = 10000\n",
    "vendas = [\n",
    "    ('João', 15000),\n",
    "    ('Julia', 27000),\n",
    "    ('Marcus', 9900),\n",
    "    ('Maria', 3750),\n",
    "    ('Ana', 10300),\n",
    "    ('Alon', 7870),\n",
    "]\n",
    "\n",
    "for venda in vendas :\n",
    "  nome, valor = venda\n",
    "\n",
    "  if valor >= meta :\n",
    "    print(\"Vendedor {} bateu a meta com {} vendas\".format(nome, valor))"
   ]
  },
  {
   "cell_type": "markdown",
   "metadata": {},
   "source": [
    "## 2. Comparação com Ano Anterior\n",
    "\n",
    "Digamos que você está analisando as vendas de produtos de um ecommerce e quer identificar quais produtos tiveram no ano de 2020 mais vendas do que no ano de 2019, para reportar isso para a diretoria.\n",
    "\n",
    "Sua resposta pode ser um print de cada produto, qual foi a venda de 2019, a venda de 2020 e o % de crescimento de 2020 para 2019.\n",
    "\n",
    "Lembrando, para calcular o % de crescimento de um produto de um ano para o outro, podemos fazer: (vendas_produto2020/vendas_produto2019 - 1)\n",
    "\n",
    "A lógica da tupla é: (produto, vendas2019, vendas2020)"
   ]
  },
  {
   "cell_type": "code",
   "execution_count": 5,
   "metadata": {},
   "outputs": [
    {
     "name": "stdout",
     "output_type": "stream",
     "text": [
      "iphone, venda 2019: 558147, venda 2020: 951642, crescimento de 70.50%\n",
      "tv, venda 2019: 405252, venda 2020: 787604, crescimento de 94.35%\n",
      "máquina de café, venda 2019: 718654, venda 2020: 867660, crescimento de 20.73%\n",
      "notebook dell, venda 2019: 422760, venda 2020: 694913, crescimento de 64.38%\n",
      "notebook hp, venda 2019: 154753, venda 2020: 539704, crescimento de 248.75%\n",
      "microsoft surface, venda 2019: 438508, venda 2020: 667179, crescimento de 52.15%\n",
      "webcam, venda 2019: 237467, venda 2020: 295633, crescimento de 24.49%\n",
      "caixa de som, venda 2019: 489705, venda 2020: 725316, crescimento de 48.11%\n",
      "microfone, venda 2019: 328311, venda 2020: 644622, crescimento de 96.34%\n",
      "câmera canon, venda 2019: 591120, venda 2020: 994303, crescimento de 68.21%\n"
     ]
    }
   ],
   "source": [
    "vendas_produtos = [('iphone', 558147, 951642), ('galaxy', 712350, 244295), ('ipad', 573823, 26964), ('tv', 405252, 787604), ('máquina de café', 718654, 867660), ('kindle', 531580, 78830), ('geladeira', 973139, 710331), ('adega', 892292, 646016), ('notebook dell', 422760, 694913), ('notebook hp', 154753, 539704), ('notebook asus', 887061, 324831), ('microsoft surface', 438508, 667179), ('webcam', 237467, 295633), ('caixa de som', 489705, 725316), ('microfone', 328311, 644622), ('câmera canon', 591120, 994303)]\n",
    "\n",
    "#seu código aqui\n",
    "\n",
    "for venda in vendas_produtos :\n",
    "  produto, venda2019, venda2020 = venda\n",
    "\n",
    "  if venda2020 > venda2019 :\n",
    "    print(\"{}, venda 2019: {}, venda 2020: {}, crescimento de {:.2%}\".format(produto, venda2019, venda2020, venda2020/venda2019 - 1))"
   ]
  }
 ],
 "metadata": {
  "kernelspec": {
   "display_name": "Python 3",
   "language": "python",
   "name": "python3"
  },
  "language_info": {
   "codemirror_mode": {
    "name": "ipython",
    "version": 3
   },
   "file_extension": ".py",
   "mimetype": "text/x-python",
   "name": "python",
   "nbconvert_exporter": "python",
   "pygments_lexer": "ipython3",
   "version": "3.10.12"
  }
 },
 "nbformat": 4,
 "nbformat_minor": 4
}
