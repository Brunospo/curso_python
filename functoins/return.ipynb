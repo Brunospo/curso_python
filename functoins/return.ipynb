{
 "cells": [
  {
   "cell_type": "markdown",
   "metadata": {},
   "source": [
    "Como \"retornar\" mais de um objeto\n",
    "- É possível retornar 2 \"coisas\"? 2 listas, 2 strings, 2 números ...\n",
    "- Sim, basta retornar como uma tupla com 2 itens"
   ]
  }
 ],
 "metadata": {
  "language_info": {
   "name": "python"
  }
 },
 "nbformat": 4,
 "nbformat_minor": 2
}
