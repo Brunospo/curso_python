{
 "cells": [
  {
   "cell_type": "markdown",
   "id": "ac60394f",
   "metadata": {
    "id": "ac60394f"
   },
   "source": [
    "# Estruturas de repetição\n",
    "\n",
    "<span style=\"color: red;\"><b>Todos os exercícios são feitos partindo-se do pressuposto de que todas as entradas são dadas de forma correta. Casos limite não mencionados no enunciado não são abordados porque não fazem parte do exercício.</b></span>"
   ]
  },
  {
   "cell_type": "markdown",
   "id": "017affd0",
   "metadata": {
    "id": "017affd0"
   },
   "source": [
    "#### 1. Faça um programa que peça uma nota, entre zero e dez. Mostre uma mensagem caso o valor seja inválido e continue pedindo até que o usuário informe um valor válido."
   ]
  },
  {
   "cell_type": "code",
   "execution_count": 5,
   "id": "5f12870d",
   "metadata": {
    "id": "5f12870d"
   },
   "outputs": [
    {
     "name": "stdout",
     "output_type": "stream",
     "text": [
      "Valor invalido\n",
      "Valor invalido\n",
      "Valor invalido\n",
      "Valor invalido\n",
      "Valor invalido\n",
      "5\n"
     ]
    }
   ],
   "source": [
    "while True :\n",
    "  nota = int(input('Digite uma nota entre 0 e 10: '))\n",
    "\n",
    "  if nota < 0 or nota > 10 :\n",
    "    print('Valor invalido')\n",
    "  else :\n",
    "    print(nota)  \n",
    "    break"
   ]
  },
  {
   "cell_type": "markdown",
   "id": "dd0c6d56",
   "metadata": {
    "id": "dd0c6d56"
   },
   "source": [
    "#### 2. Faça um programa que leia um nome de usuário e a sua senha e não aceite a senha igual ao nome do usuário, mostrando uma mensagem de erro e voltando a pedir as informações."
   ]
  },
  {
   "cell_type": "code",
   "execution_count": 11,
   "id": "f6579866",
   "metadata": {
    "id": "f6579866"
   },
   "outputs": [
    {
     "name": "stdout",
     "output_type": "stream",
     "text": [
      "Sucesso\n",
      "Sucesso\n"
     ]
    }
   ],
   "source": [
    "while True :\n",
    "  nome = input('Digite o usuario: ')\n",
    "  senha = input('Digite a senha: ')\n",
    "\n",
    "  if nome == senha :\n",
    "    print('Nome e senha não podem ser iguais!')\n",
    "  else :\n",
    "    print('Sucesso')  \n",
    "    break\n",
    "\n",
    "## ou\n",
    "\n",
    "nome = input('Digite o usuario: ')\n",
    "senha = input('Digite a senha: ')\n",
    "\n",
    "while nome == senha :\n",
    "  print('Nome e senha não podem ser iguais!')\n",
    "  nome = input('Digite o usuario: ')\n",
    "  senha = input('Digite a senha: ')\n",
    "\n",
    "print('Sucesso')\n"
   ]
  },
  {
   "cell_type": "markdown",
   "id": "ed113a82",
   "metadata": {
    "id": "ed113a82"
   },
   "source": [
    "#### 3. Faça um programa que leia e valide as seguintes informações (e para cada uma delas, continue pedindo a informação até o usuário inserir corretamente):\n",
    "##### Nome: maior que 3 caracteres;\n",
    "##### Idade: entre 0 e 150;\n",
    "##### Salário: maior que zero;\n",
    "##### Sexo: 'f' ou 'm';\n",
    "##### Estado Civil: 's', 'c', 'v', 'd';"
   ]
  },
  {
   "cell_type": "code",
   "execution_count": 14,
   "id": "3284f187",
   "metadata": {
    "id": "3284f187"
   },
   "outputs": [
    {
     "name": "stdout",
     "output_type": "stream",
     "text": [
      "bruno\n",
      "23\n",
      "3\n",
      "m\n",
      "d\n"
     ]
    }
   ],
   "source": [
    "while True :\n",
    "  nome = input('Digite o nome: ')\n",
    "\n",
    "  if len(nome) > 3 :\n",
    "    print(nome)\n",
    "    break\n",
    "while True :\n",
    "  idade = int(input('Digite o idade: '))\n",
    "\n",
    "  if idade > 0 and idade < 150 :\n",
    "    print(idade)\n",
    "    break\n",
    "while True :\n",
    "  salario = int(input('Digite o salario: '))\n",
    "\n",
    "  if salario > 0 :\n",
    "    print(salario)\n",
    "    break\n",
    "while True :\n",
    "  sexo = input('Digite o sexo: ')\n",
    "\n",
    "  if sexo in ['f', 'm'] :\n",
    "    print(sexo)\n",
    "    break\n",
    "while True :\n",
    "  estadoCivil = input('Digite o Estado Civil: ')\n",
    "\n",
    "  if estadoCivil in ['s', 'c', 'v', 'd'] :\n",
    "    print(estadoCivil)\n",
    "    break"
   ]
  },
  {
   "cell_type": "markdown",
   "id": "2f25dceb",
   "metadata": {
    "id": "2f25dceb"
   },
   "source": [
    "#### 4. Supondo que a população de um país A seja da ordem de 80000 habitantes com uma taxa anual de crescimento de 3% e que a população de B seja 200000 habitantes com uma taxa de crescimento de 1.5%. Faça um programa que calcule e escreva o número de anos necessários para que a população do país A ultrapasse ou iguale a população do país B, mantidas as taxas de crescimento."
   ]
  },
  {
   "cell_type": "code",
   "execution_count": 20,
   "id": "7ad0f5e9",
   "metadata": {
    "id": "7ad0f5e9"
   },
   "outputs": [
    {
     "name": "stdout",
     "output_type": "stream",
     "text": [
      "São necessários 63 anos para a população A igualar ou superar a população B\n"
     ]
    }
   ],
   "source": [
    "populacaoA = 80000\n",
    "populacaoB = 200000\n",
    "\n",
    "anos = 0\n",
    "\n",
    "while populacaoA < populacaoB :\n",
    "  populacaoA *= 1.03\n",
    "  populacaoB *= 1.015\n",
    "\n",
    "  anos += 1\n",
    "\n",
    "print('São necessários', anos, 'anos para a população A igualar ou superar a população B')\n"
   ]
  },
  {
   "cell_type": "markdown",
   "id": "e9626858",
   "metadata": {
    "id": "e9626858"
   },
   "source": [
    "#### 5. Altere o programa anterior permitindo ao usuário informar as populações e as taxas de crescimento iniciais. Valide a entrada e permita repetir a operação."
   ]
  },
  {
   "cell_type": "code",
   "execution_count": 24,
   "id": "c7e250a4",
   "metadata": {
    "id": "c7e250a4"
   },
   "outputs": [
    {
     "name": "stdout",
     "output_type": "stream",
     "text": [
      "São necessários 63 anos para a população A igualar ou superar a população B\n",
      "São necessários 63 anos para a população A igualar ou superar a população B\n"
     ]
    }
   ],
   "source": [
    "continuar = 's'\n",
    "\n",
    "while continuar == 's' :\n",
    "  while True:\n",
    "    populacaoA = int(input('Informe a população A: '))\n",
    "    populacaoB = int(input('Informe a população B: '))\n",
    "\n",
    "    if populacaoA <= 0 and populacaoB <= 0:\n",
    "      print('As populações precisam ser maiores que zero')\n",
    "    else :\n",
    "      break\n",
    "\n",
    "  while True:\n",
    "    taxaPopulacaoA = float(input('Informe a taxa de crescimento da população A: '))\n",
    "    taxaPopulacaoB = float(input('Informe a taxa de crescimento da população B: '))\n",
    "\n",
    "    if taxaPopulacaoA <= 0 and taxaPopulacaoB <= 0:\n",
    "      print('As taxas precisam ser maiores que zero')\n",
    "    else :\n",
    "      taxaPopulacaoA = taxaPopulacaoA/100 + 1\n",
    "      taxaPopulacaoB = taxaPopulacaoB/100 + 1\n",
    "      break\n",
    "\n",
    "  anos = 0\n",
    "\n",
    "  while populacaoA < populacaoB :\n",
    "    populacaoA *= taxaPopulacaoA\n",
    "    populacaoB *= taxaPopulacaoB\n",
    "\n",
    "    anos += 1\n",
    "\n",
    "  print('São necessários', anos, 'anos para a população A igualar ou superar a população B')\n",
    "\n",
    "  continuar = input(\"deseja continuar? \")\n"
   ]
  },
  {
   "cell_type": "markdown",
   "id": "b3d268b5",
   "metadata": {
    "id": "b3d268b5"
   },
   "source": [
    "#### 6. Faça um programa que peça para o usuário inserir o faturamento dos últimos 5 meses (individualmente) e informe o maior faturamento"
   ]
  },
  {
   "cell_type": "code",
   "execution_count": 29,
   "id": "8078e7a5",
   "metadata": {
    "id": "8078e7a5"
   },
   "outputs": [
    {
     "name": "stdout",
     "output_type": "stream",
     "text": [
      "O maior faturamento foi 5.0\n"
     ]
    }
   ],
   "source": [
    "maiorFaturamento = 0\n",
    "count = 0\n",
    "\n",
    "while count < 5:\n",
    "  faturamento = float(input('Digite o faturamento do mes {}: '.format(count + 1)))\n",
    "  if faturamento > maiorFaturamento :\n",
    "    maiorFaturamento = faturamento\n",
    "  count +=1\n",
    "print('O maior faturamento foi {}'.format(maiorFaturamento))"
   ]
  },
  {
   "cell_type": "markdown",
   "id": "6407824c",
   "metadata": {
    "id": "6407824c"
   },
   "source": [
    "#### 7. Faça um programa que peça para o usuário inserir o faturamento dos últimos 5 meses (individualmente) e informe o faturamento total (soma) e o faturamento médio por mês (média)."
   ]
  },
  {
   "cell_type": "code",
   "execution_count": 37,
   "id": "a02320d1",
   "metadata": {
    "id": "a02320d1"
   },
   "outputs": [
    {
     "name": "stdout",
     "output_type": "stream",
     "text": [
      "O faturamento total é: 15.0\n",
      "O faturamento medio é: 3.0\n"
     ]
    }
   ],
   "source": [
    "total = 0\n",
    "count = 0\n",
    "\n",
    "while count < 5:\n",
    "  faturamento = float(input('Digite o faturamento do mes {}: '.format(count + 1)))\n",
    "  total += faturamento\n",
    "  count +=1\n",
    "print('O faturamento total é: {}'.format(total))\n",
    "print('O faturamento medio é: {}'.format(total/5))"
   ]
  },
  {
   "cell_type": "markdown",
   "id": "703f3c4d",
   "metadata": {
    "id": "703f3c4d"
   },
   "source": [
    "#### 8. Faça um programa que consiga categorizar a idade das equipes de uma empresa. Faça um programa que peça para n pessoas a sua idade, ao final o programa devera verificar se a média de idade da equipe varia entre 0 e 25 (jovem) ,26 e 60 (sênior) e maior que 60 (idosa); e então, dizer se a equipe é jovem, sênior ou idosa, conforme a média calculada."
   ]
  },
  {
   "cell_type": "code",
   "execution_count": null,
   "id": "b56a85de",
   "metadata": {
    "id": "b56a85de"
   },
   "outputs": [],
   "source": [
    "qtde = int(input(f'Informe quantas pessoas serão: '))\n",
    "\n",
    "soma = 0\n",
    "\n",
    "for pessoa in range(qtde) :\n",
    "  idade = int(input(f'Informe a idade da pessoa: '))\n",
    "  soma += idade\n",
    "\n",
    "media = soma/qtde\n",
    "\n",
    "if 0 <= media <= 25:\n",
    "    print('A equipe é jovem')\n",
    "elif 25 < media <= 60:\n",
    "    print('A equipe é adulta')\n",
    "elif 60 < media:\n",
    "    print('A equipe é idosa')"
   ]
  },
  {
   "cell_type": "markdown",
   "id": "aad21b98",
   "metadata": {
    "id": "aad21b98"
   },
   "source": [
    "#### 9. Numa eleição existem três candidatos. Faça um programa que peça o número total de eleitores. Peça para cada eleitor votar e ao final mostrar o número de votos de cada candidato."
   ]
  },
  {
   "cell_type": "code",
   "execution_count": null,
   "id": "84aa7a93",
   "metadata": {
    "id": "84aa7a93"
   },
   "outputs": [
    {
     "name": "stdout",
     "output_type": "stream",
     "text": [
      "Votos do candidato 1: 1\n",
      "Votos do candidato 2: 1\n",
      "Votos do candidato 3: 1\n"
     ]
    }
   ],
   "source": [
    "qtde = int(input(f'Informe a quantidade de eleitores: '))\n",
    "\n",
    "candidato1 = 0\n",
    "candidato2 = 0\n",
    "candidato3 = 0\n",
    "\n",
    "for i in range(qtde):\n",
    "    candidato = int(input(f'Informe o voto do {i+1}° eleitor. O eleitor pode votar nos candidatos 1, 2 ou 3: '))\n",
    "    if candidato == 1:\n",
    "        candidato1 += 1\n",
    "    elif candidato == 2:\n",
    "        candidato2 += 1\n",
    "    elif candidato == 3:\n",
    "        candidato3 += 1\n",
    "        \n",
    "print('Votos do candidato 1:', candidato1)\n",
    "print('Votos do candidato 2:', candidato2)\n",
    "print('Votos do candidato 3:', candidato3) "
   ]
  },
  {
   "cell_type": "markdown",
   "id": "6e306453",
   "metadata": {
    "id": "6e306453"
   },
   "source": [
    "#### 10. Faça um programa que calcule o valor total investido por um colecionador em sua coleção de CDs e o valor médio gasto em cada um deles. O usuário deverá informar a quantidade de CDs e o valor para em cada um."
   ]
  },
  {
   "cell_type": "code",
   "execution_count": null,
   "id": "6b7fa4a2",
   "metadata": {
    "id": "6b7fa4a2"
   },
   "outputs": [],
   "source": [
    "qtde = int(input(f'Informe a quatidade de CDs: '))\n",
    "total = 0\n",
    "\n",
    "for i in range(qtde):\n",
    "    valor = int(input(f'Informe o preço do {i+1}º CD: '))\n",
    "    total += valor\n",
    "\n",
    "print(f'A média é de R$ {total/qtde} por CD')"
   ]
  },
  {
   "cell_type": "markdown",
   "id": "f19c8d86",
   "metadata": {
    "id": "f19c8d86"
   },
   "source": [
    "#### 11. O Sr. Manoel Joaquim possui uma grande loja de artigos de R\\\\$ 1,99, com cerca de 10 caixas. Para agilizar o cálculo de quanto cada cliente deve pagar ele desenvolveu um tabela que contém o número de itens que o cliente comprou e ao lado o valor da conta. Desta forma a atendente do caixa precisa apenas contar quantos itens o cliente está levando e olhar na tabela de preços. Você foi contratado para desenvolver o programa que monta esta tabela de preços, que conterá os preços de 1 até 50 produtos, conforme o exemplo abaixo:\n",
    "<pre>\n",
    "Lojas Quase Dois - Tabela de preços\n",
    "1 - R$ 1.99\n",
    "2 - R$ 3.98\n",
    "...\n",
    "50 - R$ 99.50\n",
    "</pre>"
   ]
  },
  {
   "cell_type": "code",
   "execution_count": 5,
   "id": "4fc4d54d",
   "metadata": {
    "id": "4fc4d54d"
   },
   "outputs": [
    {
     "name": "stdout",
     "output_type": "stream",
     "text": [
      "Lojas Quase dois - tabela de preços\n",
      "1 - R$ 1.99\n",
      "2 - R$ 3.98\n",
      "3 - R$ 5.97\n",
      "4 - R$ 7.96\n",
      "5 - R$ 9.95\n",
      "6 - R$ 11.94\n",
      "7 - R$ 13.93\n",
      "8 - R$ 15.92\n",
      "9 - R$ 17.91\n",
      "10 - R$ 19.9\n",
      "11 - R$ 21.89\n",
      "12 - R$ 23.88\n",
      "13 - R$ 25.87\n",
      "14 - R$ 27.86\n",
      "15 - R$ 29.85\n",
      "16 - R$ 31.84\n",
      "17 - R$ 33.83\n",
      "18 - R$ 35.82\n",
      "19 - R$ 37.81\n",
      "20 - R$ 39.8\n",
      "21 - R$ 41.79\n",
      "22 - R$ 43.78\n",
      "23 - R$ 45.77\n",
      "24 - R$ 47.76\n",
      "25 - R$ 49.75\n",
      "26 - R$ 51.74\n",
      "27 - R$ 53.73\n",
      "28 - R$ 55.72\n",
      "29 - R$ 57.71\n",
      "30 - R$ 59.7\n",
      "31 - R$ 61.69\n",
      "32 - R$ 63.68\n",
      "33 - R$ 65.67\n",
      "34 - R$ 67.66\n",
      "35 - R$ 69.65\n",
      "36 - R$ 71.64\n",
      "37 - R$ 73.63\n",
      "38 - R$ 75.62\n",
      "39 - R$ 77.61\n",
      "40 - R$ 79.6\n",
      "41 - R$ 81.59\n",
      "42 - R$ 83.58\n",
      "43 - R$ 85.57\n",
      "44 - R$ 87.56\n",
      "45 - R$ 89.55\n",
      "46 - R$ 91.54\n",
      "47 - R$ 93.53\n",
      "48 - R$ 95.52\n",
      "49 - R$ 97.51\n",
      "50 - R$ 99.5\n"
     ]
    }
   ],
   "source": [
    "count = 0\n",
    "print('Lojas Quase dois - tabela de preços')\n",
    "while count < 50 :\n",
    "  print('{} - R$ {}'.format(count + 1, (count + 1) * 1.99))\n",
    "  count += 1\n"
   ]
  },
  {
   "cell_type": "markdown",
   "id": "6cd19c52",
   "metadata": {
    "id": "6cd19c52"
   },
   "source": [
    "#### 12. Um funcionário de uma empresa recebe aumento salarial anualmente: Sabe-se que:\n",
    "<pre>\n",
    "Esse funcionário foi contratado em 1995, com salário inicial de R$ 1.000,00;\n",
    "Em 1996 recebeu aumento de 1,5% sobre seu salário inicial;\n",
    "A partir de 1997 (inclusive), os aumentos salariais sempre correspondem ao dobro do percentual do ano anterior. Faça um programa que determine o salário desse funcionário em 2003. \n",
    "</pre>"
   ]
  },
  {
   "cell_type": "code",
   "execution_count": null,
   "id": "98a4811b",
   "metadata": {
    "id": "98a4811b"
   },
   "outputs": [
    {
     "name": "stdout",
     "output_type": "stream",
     "text": [
      "1562.1217608639997\n",
      "O salário em 2003 era R$ 13036.15\n"
     ]
    }
   ],
   "source": [
    "salario = 1000 * 1.015\n",
    "taxa = 0.015\n",
    "periodo = 2004 - 1997\n",
    "\n",
    "for ano in range(periodo):\n",
    "  taxa *= 2\n",
    "  salario *= (1 + taxa)\n",
    "\n",
    "print(salario)"
   ]
  },
  {
   "cell_type": "markdown",
   "id": "227928d1",
   "metadata": {
    "id": "227928d1"
   },
   "source": [
    "#### 13. O cardápio de uma lanchonete é o seguinte:\n",
    "<pre>\n",
    "Especificação   Código  Preço\n",
    "Cachorro Quente 100     R$ 1,20\n",
    "Bauru Simples   101     R$ 1,30\n",
    "Bauru com ovo   102     R$ 1,50\n",
    "Hambúrguer      103     R$ 1,20\n",
    "Cheeseburguer   104     R$ 1,30\n",
    "Refrigerante    105     R$ 1,00\n",
    "Faça um programa que leia o código dos itens pedidos e as quantidades desejadas. Calcule e mostre o valor a ser pago por item (preço * quantidade) e o total geral do pedido. Considere que o cliente deve informar quando o pedido deve ser encerrado.\n",
    "</pre>"
   ]
  },
  {
   "cell_type": "code",
   "execution_count": null,
   "id": "8a784b86",
   "metadata": {
    "id": "8a784b86"
   },
   "outputs": [
    {
     "name": "stdout",
     "output_type": "stream",
     "text": [
      "0\n",
      "0\n",
      "2.4\n"
     ]
    }
   ],
   "source": [
    "total = 0\n",
    "\n",
    "while True :\n",
    "  codigo = input('Informe o código do produto, caso deseje encerrar digite \"encerrar\": ')\n",
    "\n",
    "  if codigo == 'encerrar' :\n",
    "    break\n",
    "\n",
    "  qtde = int(input('Informe a quantidade: '))\n",
    "\n",
    "  if codigo == '100':\n",
    "    total += 1.2 * qtde\n",
    "  elif codigo == '101':\n",
    "    total += 1.3 * qtde\n",
    "  elif codigo == '102':\n",
    "    total += 1.5 * qtde\n",
    "  elif codigo == '103':\n",
    "    total += 1.2 * qtde\n",
    "  elif codigo == '104':\n",
    "    total += 1.3 * qtde\n",
    "  elif codigo == '105':\n",
    "    total += 1 * qtde\n",
    "    \n",
    "print(total)"
   ]
  },
  {
   "cell_type": "markdown",
   "id": "9877b8ba",
   "metadata": {
    "id": "9877b8ba"
   },
   "source": [
    "#### 14. Uma grande emissora de televisão quer fazer uma enquete entre os seus telespectadores para saber qual o melhor jogador após cada jogo. Para isto, faz-se necessário o desenvolvimento de um programa, que será utilizado pelas telefonistas, para a computação dos votos. Sua equipe foi contratada para desenvolver este programa, utilizando a linguagem de programação Python. Para computar cada voto, a telefonista digitará um número, entre 1 e 23, correspondente ao número da camisa do jogador. Um número de jogador igual zero, indica que a votação foi encerrada. Se um número inválido for digitado, o programa deve ignorá-lo, mostrando uma breve mensagem de aviso, e voltando a pedir outro número. Após o final da votação, o programa deverá exibir:\n",
    "<pre>a. O total de votos computados;\n",
    "b. Os números e respectivos votos de todos os jogadores que receberam votos;\n",
    "c. O percentual de votos de cada um destes jogadores;\n",
    "d. O número do jogador escolhido como o melhor jogador da partida, juntamente com o número de votos e o percentual de votos dados a ele.\n",
    "        Observe que os votos inválidos e o zero final não devem ser computados como votos. O resultado aparece ordenado pelo número do jogador. O programa deve fazer uso de arrays. O programa deverá executar o cálculo do percentual de cada jogador através de uma função. Esta função receberá dois parâmetros: o número de votos de um jogador e o total de votos. A função calculará o percentual e retornará o valor calculado. Abaixo segue uma tela de exemplo. O disposição das informações deve ser o mais próxima possível ao exemplo. Os dados são fictícios e podem mudar a cada execução do programa. Ao final, o programa deve ainda gravar os dados referentes ao resultado da votação em um arquivo texto no disco, obedecendo a mesma disposição apresentada na tela.</pre>\n",
    "```\n",
    "Enquete: Quem foi o melhor jogador?\n",
    "\n",
    "Número do jogador (0=fim): 9\n",
    "Número do jogador (0=fim): 10\n",
    "Número do jogador (0=fim): 9\n",
    "Número do jogador (0=fim): 10\n",
    "Número do jogador (0=fim): 11\n",
    "Número do jogador (0=fim): 10\n",
    "Número do jogador (0=fim): 50\n",
    "Informe um valor entre 1 e 23 ou 0 para sair!\n",
    "Número do jogador (0=fim): 9\n",
    "Número do jogador (0=fim): 9\n",
    "Número do jogador (0=fim): 0\n",
    "\n",
    "Resultado da votação:\n",
    "\n",
    "Foram computados 8 votos.\n",
    "\n",
    "Jogador Votos           %\n",
    "9               4               50,0%\n",
    "10              3               37,5%\n",
    "11              1               12,5%\n",
    "``` "
   ]
  },
  {
   "cell_type": "code",
   "execution_count": null,
   "id": "79b82364",
   "metadata": {
    "id": "79b82364"
   },
   "outputs": [
    {
     "name": "stdout",
     "output_type": "stream",
     "text": [
      "Resultado da votação: \n",
      "Foram computados 5 votos.\n",
      "Jogador -- votos -- %\n",
      "1 -- 2 -- 40.00%\n",
      "2 -- 1 -- 20.00%\n",
      "9 -- 1 -- 20.00%\n",
      "10 -- 1 -- 20.00%\n"
     ]
    }
   ],
   "source": [
    "total = 0\n",
    "votos = []\n",
    "\n",
    "for i in range(23) :\n",
    "  votos.append(0)\n",
    "\n",
    "while True :\n",
    "  numero = int(input('Digite o numero da camisa do jogador: '))\n",
    "\n",
    "  if numero == 0 :\n",
    "    break\n",
    "  elif numero < 0 or numero > 23 :\n",
    "    print('Informe um numnero entre 1 e 23')\n",
    "    continue\n",
    "\n",
    "  votos[numero] += 1\n",
    "  total += 1\n",
    "\n",
    "print('Resultado da votação: ')\n",
    "print('Foram computados {} votos.'.format(total))\n",
    "print('Jogador -- votos -- %')\n",
    "\n",
    "for i,voto in enumerate(votos) :\n",
    "  if voto > 0 :\n",
    "    print('{} -- {} -- {:.2%}'.format(i, voto, voto / total))\n",
    "\n",
    "  \n",
    "\n",
    "\n"
   ]
  }
 ],
 "metadata": {
  "colab": {
   "collapsed_sections": [],
   "provenance": []
  },
  "kernelspec": {
   "display_name": "Python 3",
   "language": "python",
   "name": "python3"
  },
  "language_info": {
   "codemirror_mode": {
    "name": "ipython",
    "version": 3
   },
   "file_extension": ".py",
   "mimetype": "text/x-python",
   "name": "python",
   "nbconvert_exporter": "python",
   "pygments_lexer": "ipython3",
   "version": "3.10.12"
  }
 },
 "nbformat": 4,
 "nbformat_minor": 5
}
