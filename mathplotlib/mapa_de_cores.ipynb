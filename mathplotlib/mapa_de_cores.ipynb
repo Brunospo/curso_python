{
 "cells": [
  {
   "cell_type": "markdown",
   "id": "28922f35",
   "metadata": {},
   "source": [
    "## O uso das diferentes classes de mapas de cores do Matplotlib depende do tipo de dado que você está visualizando e da mensagem que deseja transmitir:\n",
    "\n",
    "### Sequential:\n",
    "Quando a gente quer, para um mesmo conjunto de pontos, destacar uma evolução\n",
    "\n",
    "### Qualitativo:\n",
    "Para quando queremos usar cores diferentes para cada novos elementos adicionados no grafico \n"
   ]
  }
 ],
 "metadata": {
  "language_info": {
   "name": "python"
  }
 },
 "nbformat": 4,
 "nbformat_minor": 5
}
