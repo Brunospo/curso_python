{
 "cells": [
  {
   "cell_type": "markdown",
   "metadata": {},
   "source": [
    "### Exercício 1\n",
    "Crie um sistema de consulta de preços\n",
    "Seu sistema deve:\n",
    "- Pedir para o usuário o nome de um produto\n",
    "- Caso o produto exista na lista de produtos, o programa deve retornar o preço do produto como resposta\n",
    "       - Ex: O produto celular custa R$1500\n",
    "- Caso o produto não exista na lista de produtos, o programa deve printar uma mensagem para o usuário tentar novamente\n"
   ]
  },
  {
   "cell_type": "code",
   "execution_count": 4,
   "metadata": {},
   "outputs": [
    {
     "name": "stdout",
     "output_type": "stream",
     "text": [
      "O celular custa R$ 1500\n"
     ]
    }
   ],
   "source": [
    "precos = {\"celular\": 1500, \"camera\": 1000, \"fone de ouvido\": 800, \"monitor\": 2000}\n",
    "\n",
    "nome = input('Digite o nome do produto: ')\n",
    "\n",
    "if nome in precos :\n",
    "  print('O {} custa R$ {}'.format(nome, precos[nome]))"
   ]
  },
  {
   "cell_type": "markdown",
   "metadata": {},
   "source": [
    "\n",
    "### Exercício 2\n",
    "Agora edite o programa anterior para fazer com que, caso não exista o produto, o programa pergunte se o usuário quer cadastrar o produto\n",
    "<br>Se ele responder sim, o programa deve pedir o nome do produto e o preco do produto e cadastrar no dicionário de preços\n",
    "<br>Em seguida do cadastro bem sucedido, o programa deve printar o dicionário de precos atualizado\n"
   ]
  },
  {
   "cell_type": "code",
   "execution_count": null,
   "metadata": {},
   "outputs": [
    {
     "name": "stdout",
     "output_type": "stream",
     "text": [
      "{'celular': 1500, 'camera': 1000, 'fone de ouvido': 800, 'monitor': 2000, 'iphone': 2000}\n"
     ]
    }
   ],
   "source": [
    "precos = {\"celular\": 1500, \"camera\": 1000, \"fone de ouvido\": 800, \"monitor\": 2000}\n",
    "\n",
    "nome = input('Digite o nome do produto: ')\n",
    "\n",
    "if nome in precos :\n",
    "  print('O {} custa R$ {}'.format(nome, precos[nome]))\n",
    "else :\n",
    "  resposta = input('Deseja cadastrar o produto?')\n",
    "  if resposta == 'sim' :\n",
    "    nomeProduto = input('Digite o nome do produto a ser cadastrado:')\n",
    "    precoProduto = float(input('Digite o preco do produto a ser cadastrado:'))\n",
    "    precos.update({nomeProduto: precoProduto})\n",
    "\n",
    "print(precos)"
   ]
  },
  {
   "cell_type": "markdown",
   "metadata": {},
   "source": [
    "### Exercício 3\n",
    "Dada a lista de preços de produtos, uma loja resolveu fazer um reajuste nos preços dos produtos. \n",
    "calcule o novo valor dos produtos com base nas seguintes regras:\n",
    "- Preços até 1.000 vão ter um reajuste de 10% (ou seja, o novo preço será 110% do preço atual)\n",
    "- Preços até maiores que 1.000 até 2.000 vão ter reajuste de 15%\n",
    "- Preços acima de 2.000 vão ter reajuste de 20%"
   ]
  },
  {
   "cell_type": "code",
   "execution_count": null,
   "metadata": {},
   "outputs": [
    {
     "name": "stdout",
     "output_type": "stream",
     "text": [
      "{'celular': 1724.9999999999998, 'camera': 1100.0, 'fone de ouvido': 880.0000000000001, 'monitor': 3600.0}\n"
     ]
    }
   ],
   "source": [
    "precos = {\"celular\": 1500, \"camera\": 1000, \"fone de ouvido\": 800, \"monitor\": 3000}\n",
    "\n",
    "for chave in precos :\n",
    "  if precos[chave] <= 1000 :\n",
    "    precos[chave] *= 1.1 \n",
    "  elif precos[chave] > 1000 and precos[chave] <= 2000 :\n",
    "    precos[chave] *= 1.15 \n",
    "  else :\n",
    "    precos[chave] *= 1.2\n",
    "\n",
    "print(precos) \n"
   ]
  },
  {
   "cell_type": "markdown",
   "metadata": {},
   "source": [
    "### Exercício 4\n",
    " - Edite o programa antigo para ter os 2 dicionários, o de preços originais e o de novos preços\n",
    " - Em seguida calcule o valor total de reajuste em R$ que teve entre a lista de produtos original e a lista final\n"
   ]
  },
  {
   "cell_type": "code",
   "execution_count": 24,
   "metadata": {},
   "outputs": [
    {
     "name": "stdout",
     "output_type": "stream",
     "text": [
      "{'celular': 1500, 'camera': 1000, 'fone de ouvido': 800, 'monitor': 3000}\n",
      "{'celular': 1725.0, 'camera': 1100.0, 'fone de ouvido': 880.0, 'monitor': 3600.0}\n",
      "Reajuste no celular foi de R$ 225.0\n",
      "Reajuste no camera foi de R$ 100.0\n",
      "Reajuste no fone de ouvido foi de R$ 80.0\n",
      "Reajuste no monitor foi de R$ 600.0\n"
     ]
    }
   ],
   "source": [
    "precos = {\"celular\": 1500, \"camera\": 1000, \"fone de ouvido\": 800, \"monitor\": 3000}\n",
    "precosAtualizados = {}\n",
    "\n",
    "for chave in precos :\n",
    "  if precos[chave] <= 1000 :\n",
    "    precosAtualizados[chave] = round(precos[chave] * 1.1, 1) \n",
    "  elif precos[chave] > 1000 and precos[chave] < 2000 :\n",
    "    precosAtualizados[chave] = round(precos[chave] * 1.15, 1)\n",
    "  else :\n",
    "    precosAtualizados[chave] = round(precos[chave] * 1.2, 1)\n",
    "\n",
    "print(precos) \n",
    "print(precosAtualizados) \n",
    "\n",
    "for chave in precos :\n",
    "  print('Reajuste no {} foi de R$ {}'.format(chave, precosAtualizados[chave] - precos[chave]))\n"
   ]
  },
  {
   "cell_type": "markdown",
   "metadata": {},
   "source": [
    "\n",
    "### Exercício 5\n",
    "- Uma empresa está analisando os resultados de vendas do 1º semestre de 2022 e 2023\n",
    "- Qual foi o % de crescimento de cada mês de 2023 em relação a 2022?\n",
    "- Depois de calcular isso, calcule o valor total de crescimento de 2023 em relação a 2022"
   ]
  },
  {
   "cell_type": "code",
   "execution_count": null,
   "metadata": {},
   "outputs": [
    {
     "name": "stdout",
     "output_type": "stream",
     "text": [
      "jan cresceu 13.33%\n",
      "fev cresceu -3.23%\n",
      "mar cresceu 25.00%\n",
      "abr cresceu 1.81%\n",
      "mai cresceu -1.84%\n",
      "jun cresceu 8.82%\n",
      "O total de crescimento de 2023 em relação a 2022 foi de 6.89%\n",
      "Em jan, a variação percentual foi de: 13.3%\n",
      "Em fev, a variação percentual foi de: -3.2%\n",
      "Em mar, a variação percentual foi de: 25.0%\n",
      "Em abr, a variação percentual foi de: 1.8%\n",
      "Em mai, a variação percentual foi de: -1.8%\n",
      "Em jun, a variação percentual foi de: 8.8%\n",
      "Crescimento Real: 6.9%\n"
     ]
    }
   ],
   "source": [
    "vendas_22 = {\"jan\": 15000, \"fev\": 15500, \"mar\": 14000, \"abr\": 16600, \"mai\": 16300, \"jun\": 17000}\n",
    "vendas_23 = {\"jan\": 17000, \"fev\": 15000, \"mar\": 17500, \"abr\": 16900, \"mai\": 16000, \"jun\": 18500}\n",
    "\n",
    "cres2022 = 0\n",
    "cres2023 = 0\n",
    "\n",
    "for chave in vendas_22 :\n",
    "  print('{} cresceu {:.2%}'.format(chave, (vendas_23[chave] / vendas_22[chave]) - 1))\n",
    "  cres2022 += vendas_22[chave]\n",
    "  cres2023 += vendas_23[chave]\n",
    "\n",
    "print('O total de crescimento de 2023 em relação a 2022 foi de {:.2%}'.format(cres2023 / cres2022 - 1))"
   ]
  },
  {
   "cell_type": "markdown",
   "metadata": {},
   "source": [
    "### Exercício 6 - Desafio\n",
    "- No final da reunião de apresentação dos números, seu chefe perguntou:\n",
    "- E se nos meses de 2023 que a gente vendeu menos do que 2022 a gente tivesse pelo menos empatado com 2022 (ou seja, se nos meses de 2023 em que as vendas foram menores do que o mesmo mês em 2022, o valor de vendas tivesse sido igual a 2022)\n",
    "- Qual teria sido o nosso crescimento de 2023 frente a 2022?"
   ]
  },
  {
   "cell_type": "code",
   "execution_count": null,
   "metadata": {},
   "outputs": [
    {
     "name": "stdout",
     "output_type": "stream",
     "text": [
      "Crescimento simulado: 7.7%\n",
      "Em jan, a variação percentual foi de: 13.3%\n",
      "Em fev, a variação percentual foi de: 0.0%\n",
      "Em mar, a variação percentual foi de: 25.0%\n",
      "Em abr, a variação percentual foi de: 1.8%\n",
      "Em mai, a variação percentual foi de: 0.0%\n",
      "Em jun, a variação percentual foi de: 8.8%\n",
      "Crescimento simulado: 7.7%\n"
     ]
    }
   ],
   "source": [
    "vendas_22 = {\"jan\": 15000, \"fev\": 15500, \"mar\": 14000, \"abr\": 16600, \"mai\": 16300, \"jun\": 17000}\n",
    "vendas_23 = {\"jan\": 17000, \"fev\": 15000, \"mar\": 17500, \"abr\": 16900, \"mai\": 16000, \"jun\": 18500}\n",
    "\n",
    "cres2022 = 0\n",
    "cres2023 = 0\n",
    "\n",
    "for chave in vendas_22 :\n",
    "  if vendas_22[chave] > vendas_23[chave]:\n",
    "    vendas_23[chave] = vendas_22[chave]\n",
    "  cres2022 += vendas_22[chave]\n",
    "  cres2023 += vendas_23[chave]\n",
    "\n",
    "print('Crescimento simulado: {:.1%}'.format(cres2023 / cres2022 - 1))\n"
   ]
  }
 ],
 "metadata": {
  "kernelspec": {
   "display_name": "Python 3",
   "language": "python",
   "name": "python3"
  },
  "language_info": {
   "codemirror_mode": {
    "name": "ipython",
    "version": 3
   },
   "file_extension": ".py",
   "mimetype": "text/x-python",
   "name": "python",
   "nbconvert_exporter": "python",
   "pygments_lexer": "ipython3",
   "version": "3.10.12"
  }
 },
 "nbformat": 4,
 "nbformat_minor": 2
}
