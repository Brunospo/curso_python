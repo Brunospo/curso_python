{
 "cells": [
  {
   "cell_type": "markdown",
   "metadata": {},
   "source": [
    "# Desafio Python e SQL\n",
    "\n",
    "### Delete"
   ]
  },
  {
   "cell_type": "code",
   "execution_count": null,
   "metadata": {},
   "outputs": [],
   "source": [
    "import pyodbc\n",
    "\n",
    "try:\n",
    "  conexao = pyodbc.connect(\"Driver={PostgreSQL Unicode};\"\n",
    "                         \"Server=localhost;\"\n",
    "                         \"Database=teste;\"\n",
    "                         \"UID=postgres;\"\n",
    "                         \"PWD=\"                         \n",
    "                         )\n",
    "  \n",
    "  cursor = conexao.cursor()\n",
    "\n",
    "  cursor.execute(\"DELETE FROM tabela_usuario WHERE id = 6;\")\n",
    "  cursor.commit()\n",
    "\n",
    "  cursor.close()\n",
    "  conexao.close()\n",
    "except Exception as e:\n",
    "  print(f'Erro ao conectar: {e}')"
   ]
  }
 ],
 "metadata": {
  "kernelspec": {
   "display_name": "Python 3",
   "language": "python",
   "name": "python3"
  },
  "language_info": {
   "codemirror_mode": {
    "name": "ipython",
    "version": 3
   },
   "file_extension": ".py",
   "mimetype": "text/x-python",
   "name": "python",
   "nbconvert_exporter": "python",
   "pygments_lexer": "ipython3",
   "version": "3.10.12"
  }
 },
 "nbformat": 4,
 "nbformat_minor": 4
}
