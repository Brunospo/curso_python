{
 "cells": [
  {
   "cell_type": "markdown",
   "metadata": {},
   "source": [
    "# Desafio Python e SQL\n",
    "\n",
    "### Read com pd.read_sql"
   ]
  },
  {
   "cell_type": "code",
   "execution_count": null,
   "metadata": {},
   "outputs": [
    {
     "name": "stderr",
     "output_type": "stream",
     "text": [
      "/tmp/ipykernel_21769/3283041257.py:11: UserWarning: pandas only supports SQLAlchemy connectable (engine/connection) or database string URI or sqlite3 DBAPI2 connection. Other DBAPI2 objects are not tested. Please consider using SQLAlchemy.\n",
      "  df = pd.read_sql('SELECT * FROM tabela_usuario;', conexao)\n"
     ]
    },
    {
     "data": {
      "text/html": [
       "<div>\n",
       "<style scoped>\n",
       "    .dataframe tbody tr th:only-of-type {\n",
       "        vertical-align: middle;\n",
       "    }\n",
       "\n",
       "    .dataframe tbody tr th {\n",
       "        vertical-align: top;\n",
       "    }\n",
       "\n",
       "    .dataframe thead th {\n",
       "        text-align: right;\n",
       "    }\n",
       "</style>\n",
       "<table border=\"1\" class=\"dataframe\">\n",
       "  <thead>\n",
       "    <tr style=\"text-align: right;\">\n",
       "      <th></th>\n",
       "      <th>id</th>\n",
       "      <th>nome</th>\n",
       "      <th>idade</th>\n",
       "      <th>data_criacao</th>\n",
       "    </tr>\n",
       "  </thead>\n",
       "  <tbody>\n",
       "    <tr>\n",
       "      <th>0</th>\n",
       "      <td>1</td>\n",
       "      <td>João</td>\n",
       "      <td>25</td>\n",
       "      <td>2025-04-23 23:01:35.521931</td>\n",
       "    </tr>\n",
       "    <tr>\n",
       "      <th>1</th>\n",
       "      <td>2</td>\n",
       "      <td>Maria</td>\n",
       "      <td>30</td>\n",
       "      <td>2025-04-23 23:01:35.521931</td>\n",
       "    </tr>\n",
       "    <tr>\n",
       "      <th>2</th>\n",
       "      <td>3</td>\n",
       "      <td>Carlos</td>\n",
       "      <td>35</td>\n",
       "      <td>2025-04-23 23:01:35.521931</td>\n",
       "    </tr>\n",
       "    <tr>\n",
       "      <th>3</th>\n",
       "      <td>4</td>\n",
       "      <td>Lucas Lira</td>\n",
       "      <td>32</td>\n",
       "      <td>2025-04-29 17:31:32.644641</td>\n",
       "    </tr>\n",
       "    <tr>\n",
       "      <th>4</th>\n",
       "      <td>5</td>\n",
       "      <td>Lucas Lira</td>\n",
       "      <td>32</td>\n",
       "      <td>2025-04-29 17:31:36.894797</td>\n",
       "    </tr>\n",
       "    <tr>\n",
       "      <th>5</th>\n",
       "      <td>6</td>\n",
       "      <td>Lucas Lira</td>\n",
       "      <td>32</td>\n",
       "      <td>2025-04-29 17:32:02.437195</td>\n",
       "    </tr>\n",
       "    <tr>\n",
       "      <th>6</th>\n",
       "      <td>7</td>\n",
       "      <td>Lucas Lira</td>\n",
       "      <td>32</td>\n",
       "      <td>2025-04-29 17:32:33.852715</td>\n",
       "    </tr>\n",
       "    <tr>\n",
       "      <th>7</th>\n",
       "      <td>8</td>\n",
       "      <td>Lucas Lira</td>\n",
       "      <td>32</td>\n",
       "      <td>2025-04-29 17:34:15.065891</td>\n",
       "    </tr>\n",
       "  </tbody>\n",
       "</table>\n",
       "</div>"
      ],
      "text/plain": [
       "   id        nome  idade               data_criacao\n",
       "0   1        João     25 2025-04-23 23:01:35.521931\n",
       "1   2       Maria     30 2025-04-23 23:01:35.521931\n",
       "2   3      Carlos     35 2025-04-23 23:01:35.521931\n",
       "3   4  Lucas Lira     32 2025-04-29 17:31:32.644641\n",
       "4   5  Lucas Lira     32 2025-04-29 17:31:36.894797\n",
       "5   6  Lucas Lira     32 2025-04-29 17:32:02.437195\n",
       "6   7  Lucas Lira     32 2025-04-29 17:32:33.852715\n",
       "7   8  Lucas Lira     32 2025-04-29 17:34:15.065891"
      ]
     },
     "metadata": {},
     "output_type": "display_data"
    }
   ],
   "source": [
    "import pandas as pd\n",
    "import pyodbc\n",
    "\n",
    "try:\n",
    "  conexao = pyodbc.connect(\"Driver={PostgreSQL Unicode};\"\n",
    "                         \"Server=localhost;\"\n",
    "                         \"Database=teste;\"\n",
    "                         \"UID=postgres;\"\n",
    "                         \"PWD=\")\n",
    "  \n",
    "  df = pd.read_sql('SELECT * FROM tabela_usuario;', conexao)\n",
    "  conexao.close()\n",
    "  display(df)\n",
    "except Exception as e:\n",
    "  print(f'Erro ao conectar: {e}')"
   ]
  }
 ],
 "metadata": {
  "kernelspec": {
   "display_name": "Python 3",
   "language": "python",
   "name": "python3"
  },
  "language_info": {
   "codemirror_mode": {
    "name": "ipython",
    "version": 3
   },
   "file_extension": ".py",
   "mimetype": "text/x-python",
   "name": "python",
   "nbconvert_exporter": "python",
   "pygments_lexer": "ipython3",
   "version": "3.10.12"
  }
 },
 "nbformat": 4,
 "nbformat_minor": 4
}
