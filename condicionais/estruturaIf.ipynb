{
 "cells": [
  {
   "cell_type": "code",
   "execution_count": 10,
   "metadata": {},
   "outputs": [
    {
     "name": "stdout",
     "output_type": "stream",
     "text": [
      "Batemos a meta de venda! Vendemos 30000 unidades\n"
     ]
    }
   ],
   "source": [
    "meta = 5000\n",
    "qtdVendida = 30000\n",
    "\n",
    "if qtdVendida >= meta :\n",
    "  print(f'Batemos a meta de venda! Vendemos {qtdVendida} unidades')"
   ]
  },
  {
   "cell_type": "code",
   "execution_count": 11,
   "metadata": {},
   "outputs": [
    {
     "name": "stdout",
     "output_type": "stream",
     "text": [
      "Infelizmente não batemos a meta de vendas! A meta era de 5000 unidades\n"
     ]
    }
   ],
   "source": [
    "meta = 5000\n",
    "qtdVendida = 3000\n",
    "\n",
    "if qtdVendida >= meta :\n",
    "  print(f'Batemos a meta de vendas! Vendemos {qtdVendida} unidades')\n",
    "else :\n",
    "  print(f'Infelizmente não batemos a meta de vendas! A meta era de {meta} unidades')"
   ]
  },
  {
   "cell_type": "markdown",
   "metadata": {},
   "source": [
    "## If dentro de if\n",
    "\n",
    "### Exemplo\n",
    "Vamos fazer um novo exemplo abaixo:\n",
    "\n",
    "Digamos que você precisa criar um programa para um fundo de investimentos conseguir avaliar o resultado de uma carteira de ações e o quanto de taxa deverá ser pago.\n",
    "\n",
    "A regra desse fundo de investimentos é:\n",
    "\n",
    "- O fundo se compromete a entregar no mínimo 5% de retorno ao ano.\n",
    "- Caso o fundo não consiga entregar os 5% de retorno, ele não pode cobrar taxa dos seus investidores.\n",
    "- Caso o fundo consiga entregar mais de 5% de retorno, ele irá cobrar 2% de taxa dos seus investidores.\n",
    "- Caso o fundo consiga mais de 20% de retorno, ele irá cobrar 4% de taxa dos seus investidores."
   ]
  },
  {
   "cell_type": "code",
   "execution_count": 12,
   "metadata": {},
   "outputs": [
    {
     "name": "stdout",
     "output_type": "stream",
     "text": [
      "A taxa foi de 0.04\n"
     ]
    }
   ],
   "source": [
    "meta = 0.05\n",
    "taxa = 0\n",
    "rendimento = 0.6\n",
    "\n",
    "if rendimento > meta :\n",
    "  if rendimento > 0.20:\n",
    "    taxa = 0.04\n",
    "    print(f'A taxa foi de {taxa}')\n",
    "  else :\n",
    "    taxa = 0.02\n",
    "    print(f'A taxa foi de {taxa}')\n",
    "else :\n",
    "  taxa = 0\n",
    "  print(f'A taxa foi de {taxa}')\n"
   ]
  }
 ],
 "metadata": {
  "kernelspec": {
   "display_name": "Python 3",
   "language": "python",
   "name": "python3"
  },
  "language_info": {
   "codemirror_mode": {
    "name": "ipython",
    "version": 3
   },
   "file_extension": ".py",
   "mimetype": "text/x-python",
   "name": "python",
   "nbconvert_exporter": "python",
   "pygments_lexer": "ipython3",
   "version": "3.10.12"
  }
 },
 "nbformat": 4,
 "nbformat_minor": 2
}
