{
 "cells": [
  {
   "cell_type": "code",
   "execution_count": null,
   "metadata": {},
   "outputs": [
    {
     "name": "stdout",
     "output_type": "stream",
     "text": [
      "Batemos a meta de venda! Vendemos 30000 unidades\n"
     ]
    }
   ],
   "source": [
    "meta = 5000\n",
    "qtdVendida = 30000\n",
    "\n",
    "if qtdVendida >= meta :\n",
    "  print(f'Batemos a meta de venda! Vendemos {qtdVendida} unidades')"
   ]
  },
  {
   "cell_type": "code",
   "execution_count": null,
   "metadata": {},
   "outputs": [
    {
     "name": "stdout",
     "output_type": "stream",
     "text": [
      "Infelizmente não batemos a meta de venda! A meta era de 5000 unidades\n"
     ]
    }
   ],
   "source": [
    "meta = 5000\n",
    "qtdVendida = 3000\n",
    "\n",
    "if qtdVendida >= meta :\n",
    "  print(f'Batemos a meta de vendas! Vendemos {qtdVendida} unidades')\n",
    "else :\n",
    "  print(f'Infelizmente não batemos a meta de vendas! A meta era de {meta} unidades')"
   ]
  }
 ],
 "metadata": {
  "kernelspec": {
   "display_name": "Python 3",
   "language": "python",
   "name": "python3"
  },
  "language_info": {
   "codemirror_mode": {
    "name": "ipython",
    "version": 3
   },
   "file_extension": ".py",
   "mimetype": "text/x-python",
   "name": "python",
   "nbconvert_exporter": "python",
   "pygments_lexer": "ipython3",
   "version": "3.10.12"
  }
 },
 "nbformat": 4,
 "nbformat_minor": 2
}
