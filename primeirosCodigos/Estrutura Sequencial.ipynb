{
 "cells": [
  {
   "cell_type": "markdown",
   "id": "bb0f9514",
   "metadata": {
    "id": "bb0f9514"
   },
   "source": [
    "# Lista de Estrutura Sequencial"
   ]
  },
  {
   "cell_type": "markdown",
   "id": "4e7a8c30",
   "metadata": {
    "id": "4e7a8c30"
   },
   "source": [
    "#### 1. Faça um Programa que mostre a mensagem (print) \"Alo mundo\" na tela."
   ]
  },
  {
   "cell_type": "code",
   "execution_count": 4,
   "id": "883bfe85",
   "metadata": {
    "id": "883bfe85"
   },
   "outputs": [
    {
     "name": "stdout",
     "output_type": "stream",
     "text": [
      "Alo Mundo\n"
     ]
    }
   ],
   "source": [
    "print('Alo Mundo')"
   ]
  },
  {
   "cell_type": "markdown",
   "id": "71d6d6a2",
   "metadata": {
    "id": "71d6d6a2"
   },
   "source": [
    "#### 2. Faça um Programa que peça um número (input) e então mostre a mensagem: \"O número informado foi [número].\""
   ]
  },
  {
   "cell_type": "code",
   "execution_count": 3,
   "id": "30cfffcf",
   "metadata": {
    "id": "30cfffcf"
   },
   "outputs": [
    {
     "name": "stdout",
     "output_type": "stream",
     "text": [
      "O numero informado foi 6\n"
     ]
    }
   ],
   "source": [
    "numero = int(input('Digite um numero: '))\n",
    "\n",
    "print(f'O numero informado foi {numero}')"
   ]
  },
  {
   "cell_type": "markdown",
   "id": "c5e43160",
   "metadata": {
    "id": "c5e43160"
   },
   "source": [
    "#### 3. Faça um Programa que peça dois números e imprima a soma."
   ]
  },
  {
   "cell_type": "code",
   "execution_count": 2,
   "id": "b0e79590",
   "metadata": {
    "id": "b0e79590"
   },
   "outputs": [
    {
     "name": "stdout",
     "output_type": "stream",
     "text": [
      "A soma dos numeros informados foi 18\n"
     ]
    }
   ],
   "source": [
    "numero1 = int(input('Digite um numero: '))\n",
    "numero2 = int(input('Digite outro numero: '))\n",
    "\n",
    "print(f'A soma dos numeros informados foi {numero1 + numero2}')"
   ]
  },
  {
   "cell_type": "markdown",
   "id": "17826987",
   "metadata": {
    "id": "17826987"
   },
   "source": [
    "#### 4. Faça um Programa que peça as 4 notas bimestrais de um aluno e mostre a média de todas as notas."
   ]
  },
  {
   "cell_type": "code",
   "execution_count": null,
   "id": "23b66762",
   "metadata": {
    "id": "23b66762"
   },
   "outputs": [
    {
     "name": "stdout",
     "output_type": "stream",
     "text": [
      "A media das notas foi 7.0\n"
     ]
    }
   ],
   "source": [
    "numeroB1 = float(input('Digite a nota do 1º bimestre: '))\n",
    "numeroB2 = float(input('Digite a nota do 2º bimestre: '))\n",
    "numeroB3 = float(input('Digite a nota do 3º bimestre: '))\n",
    "numeroB4 = float(input('Digite a nota do 4º bimestre: '))\n",
    "\n",
    "media = (numeroB1 + numeroB2 + numeroB3 + numeroB4) / 4\n",
    "print(f'A media das notas foi {media}')"
   ]
  },
  {
   "cell_type": "markdown",
   "id": "62d461c5",
   "metadata": {
    "id": "62d461c5"
   },
   "source": [
    "#### 5. Faça um Programa que converta metros para centímetros. Você pode pedir o comprimento em metros para o usuário (input)."
   ]
  },
  {
   "cell_type": "code",
   "execution_count": 6,
   "id": "d642f1ba",
   "metadata": {
    "id": "d642f1ba"
   },
   "outputs": [
    {
     "name": "stdout",
     "output_type": "stream",
     "text": [
      "O resultado é 100.0 cm\n"
     ]
    }
   ],
   "source": [
    "comprimento = float(input('Digite o comprimento em metros: '))\n",
    "resultado = comprimento * 100\n",
    "\n",
    "print(f'O resultado é {resultado} cm')"
   ]
  },
  {
   "cell_type": "markdown",
   "id": "f1311697",
   "metadata": {
    "id": "f1311697"
   },
   "source": [
    "#### 6. Faça um Programa que calcule a área de uma sala de um apartamento. Para isso, o seu programa precisa pedir a largura da sala, o comprimento da sala e imprimir a área em m² da sala."
   ]
  },
  {
   "cell_type": "code",
   "execution_count": 9,
   "id": "612ea24b",
   "metadata": {
    "id": "612ea24b"
   },
   "outputs": [
    {
     "name": "stdout",
     "output_type": "stream",
     "text": [
      "A sala tem 400.0 m²\n"
     ]
    }
   ],
   "source": [
    "largura = float(input('Digite a largura da sala: '))\n",
    "comprimento = float(input('Digite o comprimento da sala: '))\n",
    "\n",
    "area = largura * comprimento\n",
    "\n",
    "print(f'A sala tem {area} m²')"
   ]
  },
  {
   "cell_type": "markdown",
   "id": "2a285929",
   "metadata": {
    "id": "2a285929"
   },
   "source": [
    "#### 7. Faça um Programa que pergunte quanto você ganha por hora e o número de horas trabalhadas no mês. Calcule e mostre o total do seu salário no referido mês."
   ]
  },
  {
   "cell_type": "code",
   "execution_count": null,
   "id": "359e2232",
   "metadata": {
    "id": "359e2232"
   },
   "outputs": [
    {
     "name": "stdout",
     "output_type": "stream",
     "text": [
      "O salário é de R$ 30.0,00\n"
     ]
    }
   ],
   "source": [
    "valorHora = float(input('Digite quanto voce ganha por hora: '))\n",
    "horasTrabalhadas = float(input('Digite a quantidade de horas trabalhadas: '))\n",
    "\n",
    "salario = valorHora * horasTrabalhadas\n",
    "\n",
    "print(f'O salário é de R$ {salario}')"
   ]
  },
  {
   "cell_type": "markdown",
   "id": "7e2d4615",
   "metadata": {
    "id": "7e2d4615"
   },
   "source": [
    "#### 8. Vamos criar um conversor de temperatura. Faça um Programa que peça a temperatura em graus Fahrenheit, transforme e mostre a temperatura em graus Celsius.\n",
    "$C = \\frac{5}{9}(F-32)$"
   ]
  },
  {
   "cell_type": "code",
   "execution_count": 11,
   "id": "82daf9fd",
   "metadata": {
    "id": "82daf9fd"
   },
   "outputs": [
    {
     "name": "stdout",
     "output_type": "stream",
     "text": [
      "Atemperatura em Celsius é: 37.22222222222222\n"
     ]
    }
   ],
   "source": [
    "temperaturaF = float(input('Digite a temperatura em Fahrenheit: '))\n",
    "\n",
    "temperaturaC = 5/9 * (temperaturaF - 32)\n",
    "\n",
    "print(f\"Atemperatura em Celsius é: {temperaturaC}\")"
   ]
  },
  {
   "cell_type": "markdown",
   "id": "20708b1c",
   "metadata": {
    "id": "20708b1c"
   },
   "source": [
    "#### 9. Faça um Programa que peça a temperatura em graus Celsius, transforme e mostre em graus Fahrenheit.\n",
    "$F = \\frac{9}{5}C + 32$"
   ]
  },
  {
   "cell_type": "code",
   "execution_count": null,
   "id": "c73cfb38",
   "metadata": {
    "id": "c73cfb38"
   },
   "outputs": [
    {
     "name": "stdout",
     "output_type": "stream",
     "text": [
      "Atemperatura em Fahrenheit é: 95.0\n"
     ]
    }
   ],
   "source": [
    "temperaturaC = float(input('Digite a temperatura em Celsius: '))\n",
    "\n",
    "temperaturaF = (9/5 * temperaturaC) + 32\n",
    "\n",
    "print(f\"A temperatura em Fahrenheit é: {temperaturaF}\")"
   ]
  },
  {
   "cell_type": "markdown",
   "id": "b263a9dc",
   "metadata": {
    "id": "b263a9dc"
   },
   "source": [
    "#### 10. Tendo como dados de entrada a altura (h) de uma pessoa, construa um algoritmo que calcule seu peso ideal, usando a seguinte fórmula:\n",
    "$P = 72,7h - 58$\n",
    "\n",
    "Lembrando que \"algoritmo\" nada mais é do que um programa, como todos os outros que você vem fazendo"
   ]
  },
  {
   "cell_type": "code",
   "execution_count": null,
   "id": "9a9b8dca",
   "metadata": {
    "id": "9a9b8dca"
   },
   "outputs": [],
   "source": [
    "altura = float(input('Digite a altura da pessoa: '))\n",
    "\n",
    "pesoIdeal = (72.7 * altura) - 58\n",
    "\n",
    "print(f\"O peso ideal é: {pesoIdeal} KG\")"
   ]
  },
  {
   "cell_type": "markdown",
   "id": "13bb40d7",
   "metadata": {
    "id": "13bb40d7"
   },
   "source": [
    "#### 11. Tendo como dado de entrada a altura (h) de uma pessoa, construa um algoritmo que calcule seu peso ideal, utilizando as seguintes fórmulas:\n",
    "##### a. Para homens: $P = 72,7h - 58$\n",
    "##### b. Para mulheres: $P = 62,1h - 44,7$"
   ]
  },
  {
   "cell_type": "code",
   "execution_count": null,
   "id": "bf82dc8c",
   "metadata": {
    "id": "bf82dc8c"
   },
   "outputs": [],
   "source": [
    "altura = float(input('Digite a altura da pessoa: '))\n",
    "\n",
    "pesoIdealH = (72.7 * altura) - 58\n",
    "pesoIdealM = (62.1 * altura) - 44.7\n",
    "\n",
    "print(f\"O peso ideal se for homem: {pesoIdealH} e se for mulher: {pesoIdealM}\")"
   ]
  },
  {
   "cell_type": "markdown",
   "id": "f208ef89",
   "metadata": {
    "id": "f208ef89"
   },
   "source": [
    "#### 12. Faça um Programa que pergunte quanto você ganha por hora e o número de horas trabalhadas no mês."
   ]
  },
  {
   "cell_type": "code",
   "execution_count": null,
   "id": "2d5b23e0",
   "metadata": {
    "id": "2d5b23e0"
   },
   "outputs": [],
   "source": [
    "valorPorHora = float(input('Quanto voce ganha por hora? '))\n",
    "numeroDeHorasTrabalhadas = float(input('Informe o numero de horas trabalhadas: '))"
   ]
  },
  {
   "cell_type": "markdown",
   "id": "607dee3c",
   "metadata": {
    "id": "607dee3c"
   },
   "source": [
    "#####  Calcule o salário bruto (horas * salario por hora)"
   ]
  },
  {
   "cell_type": "code",
   "execution_count": null,
   "id": "7f80ccbb",
   "metadata": {
    "id": "7f80ccbb"
   },
   "outputs": [],
   "source": [
    "salarioBruto = valorPorHora * numeroDeHorasTrabalhadas\n",
    "print(f'Salario bruto: R$ {salarioBruto}')"
   ]
  },
  {
   "cell_type": "markdown",
   "id": "2ed93cb0",
   "metadata": {
    "id": "2ed93cb0"
   },
   "source": [
    "##### Calcule o desconto do IR (11% do salário bruto)"
   ]
  },
  {
   "cell_type": "code",
   "execution_count": null,
   "id": "3363e22f",
   "metadata": {
    "id": "3363e22f"
   },
   "outputs": [],
   "source": [
    "descontoIR = salarioBruto * 0.11\n",
    "print(f'Desconto IR: R$ {descontoIR}')"
   ]
  },
  {
   "cell_type": "markdown",
   "id": "0994b2c0",
   "metadata": {
    "id": "0994b2c0"
   },
   "source": [
    "##### Calcule o desconto do INSS (8% do salário bruto)"
   ]
  },
  {
   "cell_type": "code",
   "execution_count": null,
   "id": "748c6088",
   "metadata": {
    "id": "748c6088"
   },
   "outputs": [],
   "source": [
    "descontoINSS = salarioBruto * 0.08\n",
    "print(f'Desconto INSS: R$ {descontoINSS}')"
   ]
  },
  {
   "cell_type": "markdown",
   "id": "06e8dae4",
   "metadata": {
    "id": "06e8dae4"
   },
   "source": [
    "##### Calcule o desconto do sindicato (5% do salário bruto)"
   ]
  },
  {
   "cell_type": "code",
   "execution_count": null,
   "id": "21b95b15",
   "metadata": {
    "id": "21b95b15",
    "scrolled": true
   },
   "outputs": [],
   "source": [
    "descontoSindicato = salarioBruto * 0.05\n",
    "print(f'Desconto Sindicato: R$ {descontoSindicato}')"
   ]
  },
  {
   "cell_type": "markdown",
   "id": "bb14ce36",
   "metadata": {
    "id": "bb14ce36"
   },
   "source": [
    "##### Calcule o salário líquido (salário bruto - descontos)"
   ]
  },
  {
   "cell_type": "code",
   "execution_count": null,
   "id": "56317086",
   "metadata": {
    "id": "56317086"
   },
   "outputs": [],
   "source": [
    "salarioLiquido = salarioBruto - (descontoIR + descontoINSS + descontoSindicato)\n",
    "print(f'Salario Liquido: R$ {salarioLiquido}')"
   ]
  },
  {
   "cell_type": "markdown",
   "id": "cfbfcc87",
   "metadata": {
    "id": "cfbfcc87"
   },
   "source": [
    "#### 13. Faça um programa para uma loja de tintas. O programa deverá pedir o tamanho em metros quadrados da área a ser pintada. Considere que a cobertura da tinta é de 1 litro para cada 3 metros quadrados e que a tinta é vendida em latas de 18 litros, que custam R\\$ 80,00. Informe ao usuário a quantidades de latas de tinta a serem compradas e o preço total. (para simplificação nesse momento, não se preocupe em arredondar a quantidade de latas a serem compradas - vamos trabalhar isso em breve)"
   ]
  },
  {
   "cell_type": "code",
   "execution_count": 13,
   "id": "fb6a083b",
   "metadata": {
    "id": "fb6a083b"
   },
   "outputs": [
    {
     "name": "stdout",
     "output_type": "stream",
     "text": [
      "Serão necessárias 0.462962962962963 latas, custando R$ 37.03703703703704 no total\n"
     ]
    }
   ],
   "source": [
    "areaEmMetrosQuadrados = float(input('Informe o tamanho da área a ser pintada em m²: '))\n",
    "qtdLitros = areaEmMetrosQuadrados / 3\n",
    "qtdLatas = qtdLitros / 18\n",
    "\n",
    "preco = qtdLatas * 80\n",
    "\n",
    "print(f'Serão necessárias {qtdLatas} latas, custando R$ {preco} no total')"
   ]
  },
  {
   "cell_type": "markdown",
   "id": "d6503c92",
   "metadata": {
    "id": "d6503c92"
   },
   "source": [
    "#### 14. Faça um programa que peça o tamanho de um arquivo para download (em MB) e a velocidade de um link de Internet (em Mbps), calcule e informe o tempo aproximado de download do arquivo usando este link (em minutos).\n",
    "\n",
    "Detalhe: MB significa megabyte, Mb (com b minúsculo) significa megabit. Um megabit é 1/8 de um megabyte. "
   ]
  },
  {
   "cell_type": "code",
   "execution_count": null,
   "id": "0563aa62",
   "metadata": {
    "id": "0563aa62"
   },
   "outputs": [],
   "source": [
    "tamanho = float(input('Informe o tamanho do arquivo em MB: '))\n",
    "velocidade = float(input('Informe a velocidade da conexão em Mbps: '))\n",
    "\n",
    "# aqui trasnformamos megabytes em megabits para que tamanho e velocidade estejam na mesma unidade\n",
    "tamanho_megabits = tamanho * 8\n",
    "\n",
    "tempo = tamanho_megabits / velocidade\n",
    "\n",
    "tempo_minutos = tempo / 60\n",
    "print(f'O tempo de download é de {tempo_minutos} minutos')"
   ]
  }
 ],
 "metadata": {
  "colab": {
   "provenance": []
  },
  "kernelspec": {
   "display_name": "Python 3",
   "language": "python",
   "name": "python3"
  },
  "language_info": {
   "codemirror_mode": {
    "name": "ipython",
    "version": 3
   },
   "file_extension": ".py",
   "mimetype": "text/x-python",
   "name": "python",
   "nbconvert_exporter": "python",
   "pygments_lexer": "ipython3",
   "version": "3.10.12"
  }
 },
 "nbformat": 4,
 "nbformat_minor": 5
}
