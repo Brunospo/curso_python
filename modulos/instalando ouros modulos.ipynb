{
 "cells": [
  {
   "cell_type": "markdown",
   "metadata": {},
   "source": [
    "# Como instalar um Módulo/Biblioteca que não tenha no seu computador\n",
    "\n",
    "### Estrutura:\n",
    "\n",
    "- Usaremos o \"pip\" para isso. É um gerenciador de módulos/pacotes/bibliotecas que ajuda a gente a instalar, atualizar, desinstalar novos módulos\n",
    "- Não precisa dominar pip, apenas os comandos que vamos usar aqui mesmo\n",
    "\n",
    "Passo 1: Abrir o Prompt do Anaconda<br>\n",
    "Passo 2: Instalar com o pip os pacotes que quiser<br>\n",
    "Passo 3: Reiniciar o Jupyter (nem sempre necessário, mas na dúvida é melhor fazer)<br>"
   ]
  },
  {
   "cell_type": "code",
   "execution_count": 1,
   "metadata": {},
   "outputs": [
    {
     "name": "stdout",
     "output_type": "stream",
     "text": [
      "Defaulting to user installation because normal site-packages is not writeable\n",
      "Collecting keyboard\n",
      "  Downloading keyboard-0.13.5-py3-none-any.whl (58 kB)\n",
      "\u001b[2K     \u001b[90m━━━━━━━━━━━━━━━━━━━━━━━━━━━━━━━━━━━━━━━━\u001b[0m \u001b[32m58.1/58.1 KB\u001b[0m \u001b[31m1.0 MB/s\u001b[0m eta \u001b[36m0:00:00\u001b[0ma \u001b[36m0:00:01\u001b[0m\n",
      "\u001b[?25hInstalling collected packages: keyboard\n",
      "Successfully installed keyboard-0.13.5\n"
     ]
    }
   ],
   "source": [
    "!pip install keyboard"
   ]
  },
  {
   "cell_type": "code",
   "execution_count": null,
   "metadata": {},
   "outputs": [],
   "source": [
    "#Usando o Jupyter no navegador\n",
    "\n",
    "import keyboard\n",
    "\n",
    "keyboard.press_and_release('ctrl+t')\n",
    "\n",
    "keyboard.write('hashtagtreinamentos.com')\n",
    "\n",
    "keyboard.press_and_release('enter')"
   ]
  },
  {
   "cell_type": "code",
   "execution_count": null,
   "metadata": {},
   "outputs": [],
   "source": [
    "import keyboard\n",
    "import time\n",
    "\n",
    "keyboard.press_and_release('win')\n",
    "time.sleep(1)\n",
    "keyboard.write('chrome')\n",
    "time.sleep(1)\n",
    "keyboard.press_and_release('enter')\n",
    "keyboard.write('hashtagtreinamentos.com')\n",
    "keyboard.press_and_release('enter')\n"
   ]
  }
 ],
 "metadata": {
  "kernelspec": {
   "display_name": "Python 3",
   "language": "python",
   "name": "python3"
  },
  "language_info": {
   "codemirror_mode": {
    "name": "ipython",
    "version": 3
   },
   "file_extension": ".py",
   "mimetype": "text/x-python",
   "name": "python",
   "nbconvert_exporter": "python",
   "pygments_lexer": "ipython3",
   "version": "3.10.12"
  }
 },
 "nbformat": 4,
 "nbformat_minor": 4
}
