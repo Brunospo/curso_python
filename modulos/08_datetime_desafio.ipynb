{
 "cells": [
  {
   "cell_type": "markdown",
   "metadata": {},
   "source": [
    "## Calculando a idade\n",
    "\n",
    "Um usuário fornece sua data de nascimento no formato \"dd/mm/aaaa\". Crie um script Python que calcula a idade do usuário.\n"
   ]
  },
  {
   "cell_type": "code",
   "execution_count": 2,
   "metadata": {},
   "outputs": [
    {
     "name": "stdout",
     "output_type": "stream",
     "text": [
      "26\n"
     ]
    }
   ],
   "source": [
    "from datetime import datetime\n",
    "\n",
    "dataNascimento = input('Digite a data no formato dd/mm/aaaa: ')\n",
    "dataNascimento = datetime.strptime(dataNascimento, '%d/%m/%Y')\n",
    "\n",
    "dataAtual = datetime.now()\n",
    "\n",
    "idade = dataAtual.year - dataNascimento.year\n",
    "\n",
    "if dataAtual.month < dataNascimento.month:\n",
    "  idade -= 1\n",
    "elif dataAtual.month == dataNascimento.month and dataAtual.day < dataNascimento.day:\n",
    "  idade -= 1\n",
    "\n",
    "print(idade)"
   ]
  }
 ],
 "metadata": {
  "kernelspec": {
   "display_name": "Python 3",
   "language": "python",
   "name": "python3"
  },
  "language_info": {
   "codemirror_mode": {
    "name": "ipython",
    "version": 3
   },
   "file_extension": ".py",
   "mimetype": "text/x-python",
   "name": "python",
   "nbconvert_exporter": "python",
   "pygments_lexer": "ipython3",
   "version": "3.10.12"
  }
 },
 "nbformat": 4,
 "nbformat_minor": 4
}
