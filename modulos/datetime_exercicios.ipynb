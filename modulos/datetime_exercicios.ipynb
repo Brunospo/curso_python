{
 "cells": [
  {
   "cell_type": "markdown",
   "metadata": {},
   "source": [
    "## Oferecendo desconto para cliente com base na última compra\n",
    "\n",
    "Suponha que você está trabalhando para uma empresa que deseja rastrear a atividade do cliente. Uma métrica que eles estão interessados é o tempo que passou desde a última transação do cliente. Se for muito tempo, eles podem oferecer um desconto para o cliente. Crie um script Python que mostra quanto tempo se passou desde a última compra do cliente. Se faz mais de 30 dias, mostre uma mensagem oferecendo um desconto para o cliente."
   ]
  },
  {
   "cell_type": "code",
   "execution_count": 16,
   "metadata": {},
   "outputs": [
    {
     "name": "stdout",
     "output_type": "stream",
     "text": [
      "Fazem 1110 dias desde a ultima compra! Voce tem um desconto!\n"
     ]
    }
   ],
   "source": [
    "from datetime import datetime\n",
    "\n",
    "dataUltimaCompra = datetime(2022, 3, 12)\n",
    "dataUltimaCompra2 = datetime(2025, 3, 12)\n",
    "dataHoje = datetime.now()\n",
    "\n",
    "diferenca = dataHoje - dataUltimaCompra\n",
    "\n",
    "if diferenca.days >= 30 :\n",
    "  print('Fazem {} dias desde a ultima compra! Voce tem um desconto!'.format(diferenca.days))\n",
    "else :\n",
    "  print(\"Voce nao tem direito a desconto!\")"
   ]
  },
  {
   "cell_type": "markdown",
   "metadata": {},
   "source": [
    "## Data e hora em diferentes fusos horários\n",
    "\n",
    "Uma empresa tem escritórios em São Paulo, Nova York e Tóquio. Crie um script Python que mostra a data e hora atuais nesses três fusos horários. Exiba, também, se estes escritórios estão abertos ou fechados (9h às 17h).\n"
   ]
  },
  {
   "cell_type": "code",
   "execution_count": 44,
   "metadata": {},
   "outputs": [
    {
     "name": "stdout",
     "output_type": "stream",
     "text": [
      "SaoPaulo, quarta, 26 de março de 2025, 10:48:03 | ABERTO\n",
      "NovaYork, quarta, 26 de março de 2025, 09:48:03 | ABERTO\n",
      "Tokyo, quarta, 26 de março de 2025, 22:48:03 | FECHADO\n"
     ]
    }
   ],
   "source": [
    "from datetime import datetime\n",
    "from zoneinfo import ZoneInfo\n",
    "import locale\n",
    "\n",
    "locale.setlocale(locale.LC_TIME, 'pt_BR.UTF-8')\n",
    "\n",
    "fuso_horario_sao_paulo = ZoneInfo('America/Sao_Paulo')\n",
    "fuso_horario_nova_york = ZoneInfo('America/New_York')\n",
    "fuso_horario_tokyo = ZoneInfo('Asia/Tokyo')\n",
    "\n",
    "hora = datetime.now()\n",
    "horarios = {'horaSaoPaulo' : hora.astimezone(fuso_horario_sao_paulo), 'horaNovaYork' : hora.astimezone(fuso_horario_nova_york), 'horaTokyo' : hora.astimezone(fuso_horario_tokyo)}\n",
    "\n",
    "for fuso, horario in horarios.items():\n",
    "  cidade = fuso.replace('hora', '')\n",
    "  horaFormatada = horario.strftime(\"%A, %d de %B de %Y, %H:%M:%S\")\n",
    "  if horario.hour >= 9 and horario.hour <= 17 :\n",
    "    print(f'{cidade}, {horaFormatada} | ABERTO')\n",
    "  else :\n",
    "    print(f'{cidade}, {horaFormatada} | FECHADO')\n",
    "\n"
   ]
  }
 ],
 "metadata": {
  "kernelspec": {
   "display_name": "Python 3",
   "language": "python",
   "name": "python3"
  },
  "language_info": {
   "codemirror_mode": {
    "name": "ipython",
    "version": 3
   },
   "file_extension": ".py",
   "mimetype": "text/x-python",
   "name": "python",
   "nbconvert_exporter": "python",
   "pygments_lexer": "ipython3",
   "version": "3.10.12"
  }
 },
 "nbformat": 4,
 "nbformat_minor": 4
}
